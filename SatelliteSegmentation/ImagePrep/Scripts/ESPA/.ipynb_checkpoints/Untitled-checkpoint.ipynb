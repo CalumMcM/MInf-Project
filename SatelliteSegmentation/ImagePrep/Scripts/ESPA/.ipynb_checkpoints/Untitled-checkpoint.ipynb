{
 "cells": [
  {
   "cell_type": "code",
   "execution_count": 4,
   "metadata": {},
   "outputs": [
    {
     "ename": "NameError",
     "evalue": "name 'plt' is not defined",
     "output_type": "error",
     "traceback": [
      "\u001b[0;31m---------------------------------------------------------------------------\u001b[0m",
      "\u001b[0;31mNameError\u001b[0m                                 Traceback (most recent call last)",
      "\u001b[0;32m<ipython-input-4-20b44a729598>\u001b[0m in \u001b[0;36m<module>\u001b[0;34m\u001b[0m\n\u001b[1;32m     26\u001b[0m \u001b[0;34m\u001b[0m\u001b[0m\n\u001b[1;32m     27\u001b[0m \u001b[0;31m# View the color composite\u001b[0m\u001b[0;34m\u001b[0m\u001b[0;34m\u001b[0m\u001b[0;34m\u001b[0m\u001b[0m\n\u001b[0;32m---> 28\u001b[0;31m \u001b[0mplt\u001b[0m\u001b[0;34m.\u001b[0m\u001b[0mimshow\u001b[0m\u001b[0;34m(\u001b[0m\u001b[0mnrg\u001b[0m\u001b[0;34m)\u001b[0m\u001b[0;34m\u001b[0m\u001b[0;34m\u001b[0m\u001b[0m\n\u001b[0m",
      "\u001b[0;31mNameError\u001b[0m: name 'plt' is not defined"
     ]
    }
   ],
   "source": [
    "import rasterio as rs\n",
    "from rasterio.plot import show\n",
    "import numpy as np\n",
    "import matplotlib.pyplot as plt\n",
    "\n",
    "\n",
    "# Normalize bands into 0.0 - 1.0 scale\n",
    "def normalize(array):\n",
    "\n",
    "    array_min, array_max = array.min(), array.max()\n",
    "\n",
    "    return (array - array_min) / (array_max - array_min)\n",
    "\n",
    "raster = rs.open('/Users/calummcmeekin/Downloads/LE07_220076_19990926.tif')\n",
    "\n",
    "# Convert to numpy arrays\n",
    "nir = raster.read(4)\n",
    "red = raster.read(3)\n",
    "green = raster.read(2)\n",
    "\n",
    "# Normalize band DN\n",
    "nir_norm = normalize(nir)\n",
    "red_norm = normalize(red)\n",
    "green_norm = normalize(green)\n",
    "\n",
    "# Stack bands\n",
    "nrg = np.dstack((nir_norm, red_norm, green_norm))\n",
    "\n",
    "# View the color composite\n",
    "plt.imshow(nrg)"
   ]
  },
  {
   "cell_type": "code",
   "execution_count": null,
   "metadata": {},
   "outputs": [],
   "source": []
  }
 ],
 "metadata": {
  "kernelspec": {
   "display_name": "Python 3",
   "language": "python",
   "name": "python3"
  },
  "language_info": {
   "codemirror_mode": {
    "name": "ipython",
    "version": 3
   },
   "file_extension": ".py",
   "mimetype": "text/x-python",
   "name": "python",
   "nbconvert_exporter": "python",
   "pygments_lexer": "ipython3",
   "version": "3.8.2"
  }
 },
 "nbformat": 4,
 "nbformat_minor": 4
}
