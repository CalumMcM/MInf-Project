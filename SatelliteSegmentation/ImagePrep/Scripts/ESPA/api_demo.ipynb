{
 "cells": [
  {
   "cell_type": "markdown",
   "metadata": {},
   "source": [
    "# ESPA-API DEMO code\n",
    "\n",
    "Since many of our services written in python also interact with the API, we have\n",
    "this example as a quick run-through which should hopefully get anyone started\n",
    "towards building their own simple python services capable of interacting\n",
    "with ESPA.\n",
    "\n",
    "## Official documentation:\n",
    "* See the [ESPA API Source Code](https://github.com/USGS-EROS/espa-api/)\n",
    "* Visit the [ESPA On-Demand Interface](https://espa.cr.usgs.gov)\n",
    "\n",
    "For questions regarding this source code, or the ESPA project, please use the\n",
    "[Landsat Contact Us](https://landsat.usgs.gov/contact) page and specify\n",
    "**USGS ESPA** in the \"Subject\" section.\n",
    "\n",
    "### WARNING! _This example is only provided as is._\n",
    "\n",
    "---\n",
    "\n",
    "---"
   ]
  },
  {
   "cell_type": "code",
   "execution_count": 1,
   "metadata": {},
   "outputs": [
    {
     "name": "stdout",
     "output_type": "stream",
     "text": [
      "3.8.3\n"
     ]
    }
   ],
   "source": [
    "import platform\n",
    "print(platform.python_version())"
   ]
  },
  {
   "cell_type": "markdown",
   "metadata": {},
   "source": [
    "## Dependencies\n",
    "We will use the [requests](http://docs.python-requests.org/en/master/)\n",
    "library, although similar operations are available through the\n",
    "[Standard Python Libraries](https://docs.python.org/2/library/internet.html)"
   ]
  },
  {
   "cell_type": "code",
   "execution_count": 2,
   "metadata": {},
   "outputs": [],
   "source": [
    "import requests\n",
    "import json\n",
    "import getpass"
   ]
  },
  {
   "cell_type": "markdown",
   "metadata": {},
   "source": [
    "The current URL hosting the ESPA interfaces has reached a stable version 1.0"
   ]
  },
  {
   "cell_type": "code",
   "execution_count": 3,
   "metadata": {},
   "outputs": [],
   "source": [
    "host = 'https://espa.cr.usgs.gov/api/v1/'"
   ]
  },
  {
   "cell_type": "markdown",
   "metadata": {},
   "source": [
    "ESPA uses the ERS credentials for identifying users"
   ]
  },
  {
   "cell_type": "code",
   "execution_count": 4,
   "metadata": {},
   "outputs": [
    {
     "name": "stdout",
     "output_type": "stream",
     "text": [
      "········\n"
     ]
    }
   ],
   "source": [
    "username = 'CalumMcM'\n",
    "password = getpass.getpass()"
   ]
  },
  {
   "cell_type": "markdown",
   "metadata": {},
   "source": [
    "---\n",
    "\n",
    "---"
   ]
  },
  {
   "cell_type": "markdown",
   "metadata": {},
   "source": [
    "## espa_api: A Function\n",
    "First and foremost, define a simple function for interacting with the API. \n",
    "\n",
    "The key things to watch for:\n",
    "\n",
    "* Always scrub for a `\"messages\"` field returned in the response, it is only informational about a request\n",
    "  * **Errors** (`\"errors\"`): Brief exlaination about why a request failed\n",
    "  * **Warnings** (`\"warnings\"`): Cautions about a successful response\n",
    "* Always make sure the requested HTTP `status_code` returned is valid \n",
    "  * **GET**: `200 OK`: The requested resource was successfully fetched (result can still be empty)\n",
    "  * **POST**: `201 Created`: The requested resource was created\n",
    "  * **PUT**: `202 Accepted`: The requested resource was updated"
   ]
  },
  {
   "cell_type": "code",
   "execution_count": 5,
   "metadata": {},
   "outputs": [],
   "source": [
    "def espa_api(endpoint, verb='get', body=None, uauth=None):\n",
    "    \"\"\" Suggested simple way to interact with the ESPA JSON REST API \"\"\"\n",
    "    auth_tup = uauth if uauth else (username, password)\n",
    "    response = getattr(requests, verb)(host + endpoint, auth=auth_tup, json=body)\n",
    "    print('{} {}'.format(response.status_code, response.reason))\n",
    "    data = response.json()\n",
    "    if isinstance(data, dict):\n",
    "        messages = data.pop(\"messages\", None)  \n",
    "        if messages:\n",
    "            print(json.dumps(messages, indent=4))\n",
    "    try:\n",
    "        response.raise_for_status()\n",
    "    except Exception as e:\n",
    "        print(e)\n",
    "        return None\n",
    "    else:\n",
    "        return data"
   ]
  },
  {
   "cell_type": "markdown",
   "metadata": {},
   "source": [
    "## General Interactions: Authentication\n",
    "Basic call to get the current user's information. It requires valid credentials, and is a good check that the system is available"
   ]
  },
  {
   "cell_type": "code",
   "execution_count": 6,
   "metadata": {},
   "outputs": [
    {
     "name": "stdout",
     "output_type": "stream",
     "text": [
      "GET /api/v1/user\n",
      "200 OK\n",
      "{\n",
      "    \"email\": \"calummcmeekin@mac.com\",\n",
      "    \"first_name\": \"Calum\",\n",
      "    \"last_name\": \"McMeekin\",\n",
      "    \"roles\": [\n",
      "        \"active\"\n",
      "    ],\n",
      "    \"username\": \"CalumMcM\"\n",
      "}\n"
     ]
    }
   ],
   "source": [
    "print('GET /api/v1/user')\n",
    "resp = espa_api('user')\n",
    "print(json.dumps(resp, indent=4))"
   ]
  },
  {
   "cell_type": "markdown",
   "metadata": {},
   "source": [
    "Here, we can see what an error response will look like:"
   ]
  },
  {
   "cell_type": "code",
   "execution_count": 7,
   "metadata": {},
   "outputs": [
    {
     "name": "stdout",
     "output_type": "stream",
     "text": [
      "GET /api/v1/user\n",
      "503 SERVICE UNAVAILABLE\n",
      "{\n",
      "    \"warnings\": [\n",
      "        \"ERS connection failed\"\n",
      "    ]\n",
      "}\n",
      "503 Server Error: SERVICE UNAVAILABLE for url: https://espa.cr.usgs.gov/api/v1/user\n"
     ]
    }
   ],
   "source": [
    "print('GET /api/v1/user')\n",
    "espa_api('user', uauth=('invalid', 'invalid'))"
   ]
  },
  {
   "cell_type": "markdown",
   "metadata": {},
   "source": [
    "## General Interactions: Available Options\n",
    "\n",
    "ESPA offers several services, descriptions can be found here: \n",
    "* [AVAILABLE-PRODUCTS](/docs/available-products.md)\n",
    "* [CUSTOMIZATION](/docs/customization.md)"
   ]
  },
  {
   "cell_type": "markdown",
   "metadata": {},
   "source": [
    "Call to demonstrate what is returned from available-products"
   ]
  },
  {
   "cell_type": "code",
   "execution_count": 8,
   "metadata": {},
   "outputs": [
    {
     "name": "stdout",
     "output_type": "stream",
     "text": [
      "GET /api/v1/available-products\n",
      "200 OK\n",
      "{\n",
      "    \"etm7_collection\": {\n",
      "        \"products\": [\n",
      "            \"source_metadata\",\n",
      "            \"l1\",\n",
      "            \"toa\",\n",
      "            \"bt\",\n",
      "            \"sr\",\n",
      "            \"sr_ndvi\",\n",
      "            \"sr_evi\",\n",
      "            \"sr_savi\",\n",
      "            \"sr_msavi\",\n",
      "            \"sr_ndmi\",\n",
      "            \"sr_nbr\",\n",
      "            \"sr_nbr2\",\n",
      "            \"stats\",\n",
      "            \"pixel_qa\",\n",
      "            \"et\"\n",
      "        ],\n",
      "        \"inputs\": [\n",
      "            \"LE07_L1TP_029030_20170221_20170319_01_T1\"\n",
      "        ]\n",
      "    },\n",
      "    \"mod09a1\": {\n",
      "        \"products\": [\n",
      "            \"l1\",\n",
      "            \"stats\"\n",
      "        ],\n",
      "        \"inputs\": [\n",
      "            \"MOD09A1.A2017073.h10v04.006.2017082160945.hdf\"\n",
      "        ]\n",
      "    },\n",
      "    \"not_implemented\": [\n",
      "        \"bad_scene_id\"\n",
      "    ]\n",
      "}\n"
     ]
    }
   ],
   "source": [
    "print('GET /api/v1/available-products')\n",
    "avail_list = {'inputs': ['LE07_L1TP_029030_20170221_20170319_01_T1',\n",
    "                         'MOD09A1.A2017073.h10v04.006.2017082160945.hdf',\n",
    "                         'bad_scene_id'  # <-- Note: Unrecognized ID\n",
    "                        ]\n",
    "             }\n",
    "resp = espa_api('available-products', body=avail_list)\n",
    "print(json.dumps(resp, indent=4))"
   ]
  },
  {
   "cell_type": "markdown",
   "metadata": {},
   "source": [
    "ESPA can produce outputs all of the same geographic projections.  \n",
    "\n",
    "Call to show the available projection parameters that can be used:"
   ]
  },
  {
   "cell_type": "code",
   "execution_count": 9,
   "metadata": {},
   "outputs": [
    {
     "name": "stdout",
     "output_type": "stream",
     "text": [
      "GET /api/v1/projections\n",
      "200 OK\n",
      "dict_keys(['aea', 'utm', 'lonlat', 'sinu', 'ps'])\n"
     ]
    }
   ],
   "source": [
    "print('GET /api/v1/projections')\n",
    "projs = espa_api('projections')\n",
    "print (projs.keys())"
   ]
  },
  {
   "cell_type": "markdown",
   "metadata": {},
   "source": [
    "This is a Schema Definition, useful for building a valid order\n",
    "\n",
    "Example (*UTM Projection*):"
   ]
  },
  {
   "cell_type": "code",
   "execution_count": 10,
   "metadata": {},
   "outputs": [
    {
     "name": "stdout",
     "output_type": "stream",
     "text": [
      "{\n",
      "    \"zone\": {\n",
      "        \"type\": \"integer\",\n",
      "        \"title\": \"UTM Grid Zone Number\",\n",
      "        \"display_rank\": 0,\n",
      "        \"required\": true,\n",
      "        \"minimum\": 1,\n",
      "        \"maximum\": 60\n",
      "    },\n",
      "    \"zone_ns\": {\n",
      "        \"type\": \"string\",\n",
      "        \"title\": \"UTM Hemisphere\",\n",
      "        \"display_rank\": 1,\n",
      "        \"required\": true,\n",
      "        \"enum\": [\n",
      "            \"north\",\n",
      "            \"south\"\n",
      "        ]\n",
      "    }\n",
      "}\n"
     ]
    }
   ],
   "source": [
    "print(json.dumps(projs['utm']['properties'], indent=4))"
   ]
  },
  {
   "cell_type": "markdown",
   "metadata": {},
   "source": [
    "### More resources about the API\n",
    "\n",
    "For further reading: \n",
    "\n",
    "* [API-REQUIREMENTS](/docs/api-requirements.md)\n",
    "* [API-RESOURCES-LIST](/docs/api-resources-list.md)\n",
    "* [Product Flow](/docs/product_flow.txt)\n",
    "* [TERMS](/docs/terms.md)\n",
    "\n",
    "---\n",
    "\n",
    "---"
   ]
  },
  {
   "cell_type": "markdown",
   "metadata": {},
   "source": [
    "## Practical Example: Building An Order\n",
    "Here we use two different Landsat sensors to build up an order, and then place the order into the system"
   ]
  },
  {
   "cell_type": "code",
   "execution_count": null,
   "metadata": {},
   "outputs": [],
   "source": [
    "l8_ls = ['LC08_L1TP_219072_20200718_20200722_01_T1',\n",
    "         'LC08_L1TP_219072_20200702_20200708_01_T1',\n",
    "         'LC08_L1TP_029030_20130712_20170309_01_T1']\n",
    "l7_ls =['LE07_L1TP_029030_20170221_20170319_01_T1',\n",
    "        'LE07_L1TP_029030_20161101_20161127_01_T1',\n",
    "        'LE07_L1TP_029030_20130602_20160908_01_T1']\n",
    "\n",
    "# Differing products across the sensors\n",
    "l7_prods = ['toa', 'bt']\n",
    "l8_prods = ['sr']\n",
    "\n",
    "# Standard Albers CONUS\n",
    "projection = {'aea': {'standard_parallel_1': 29.5,\n",
    "                      'standard_parallel_2': 45.5,\n",
    "                      'central_meridian': -96.0,\n",
    "                      'latitude_of_origin': 23.0,\n",
    "                      'false_easting': 0,\n",
    "                      'false_northing': 0,\n",
    "                      'datum': 'nad83'}}\n",
    "\n",
    "# Let available-products place the acquisitions under their respective sensors\n",
    "ls = l8_ls + l7_ls\n",
    "\n",
    "print('GET /api/v1/available-products')\n",
    "order = espa_api('available-products', body=dict(inputs=ls))\n",
    "print(json.dumps(order, indent=4))"
   ]
  },
  {
   "cell_type": "markdown",
   "metadata": {},
   "source": [
    "**NOTE**: Here we will not need to know what the sensor names were for the Product IDs, thanks to the response from this `available-products` resource. "
   ]
  },
  {
   "cell_type": "code",
   "execution_count": null,
   "metadata": {},
   "outputs": [],
   "source": [
    "# Replace the available products that was returned with what we want\n",
    "for sensor in order.keys():\n",
    "    if isinstance(order[sensor], dict) and order[sensor].get('inputs'):\n",
    "        if set(l7_ls) & set(order[sensor]['inputs']):\n",
    "            order[sensor]['products'] = l7_prods\n",
    "        if set(l8_ls) & set(order[sensor]['inputs']):\n",
    "            order[sensor]['products'] = l8_prods\n",
    "\n",
    "# Add in the rest of the order information\n",
    "order['projection'] = projection\n",
    "order['format'] = 'gtiff'\n",
    "order['resampling_method'] = 'cc'\n",
    "order['note'] = 'API Demo Jupyter!!'\n",
    "\n",
    "# Notice how it has changed from the original call available-products\n",
    "print(json.dumps(order, indent=4))"
   ]
  },
  {
   "cell_type": "markdown",
   "metadata": {},
   "source": [
    "#### Place the order"
   ]
  },
  {
   "cell_type": "code",
   "execution_count": null,
   "metadata": {},
   "outputs": [],
   "source": [
    "# Place the order\n",
    "print('POST /api/v1/order')\n",
    "resp = espa_api('order', verb='post', body=order)\n",
    "print(json.dumps(resp, indent=4))"
   ]
  },
  {
   "cell_type": "markdown",
   "metadata": {},
   "source": [
    "If successful, we will get our order-id"
   ]
  },
  {
   "cell_type": "code",
   "execution_count": 11,
   "metadata": {},
   "outputs": [],
   "source": [
    "#orderid = resp['orderid']\n",
    "#orderid = 'espa-calummcmeekin@mac.com-08242020-042201-261'\n",
    "orderid = 'P100fdrjxk6lm'"
   ]
  },
  {
   "cell_type": "markdown",
   "metadata": {},
   "source": [
    "## Check the status of an order\n"
   ]
  },
  {
   "cell_type": "code",
   "execution_count": 12,
   "metadata": {},
   "outputs": [
    {
     "name": "stdout",
     "output_type": "stream",
     "text": [
      "GET /api/v1/order-status/P100fdrjxk6lm\n",
      "200 OK\n",
      "{\n",
      "    \"orderid\": \"espa-P100fdrjxk6lm\",\n",
      "    \"status\": \"complete\"\n",
      "}\n"
     ]
    }
   ],
   "source": [
    "print('GET /api/v1/order-status/{}'.format(orderid))\n",
    "resp = espa_api('order-status/{}'.format(orderid))\n",
    "print(json.dumps(resp, indent=4))"
   ]
  },
  {
   "cell_type": "markdown",
   "metadata": {},
   "source": [
    "Now, we can check for any completed products, and get the download url's for completed scenes"
   ]
  },
  {
   "cell_type": "code",
   "execution_count": 13,
   "metadata": {},
   "outputs": [
    {
     "name": "stdout",
     "output_type": "stream",
     "text": [
      "GET /api/v1/item-status/P100fdrjxk6lm\n",
      "200 OK\n"
     ]
    },
    {
     "ename": "KeyError",
     "evalue": "'P100fdrjxk6lm'",
     "output_type": "error",
     "traceback": [
      "\u001b[0;31m---------------------------------------------------------------------------\u001b[0m",
      "\u001b[0;31mKeyError\u001b[0m                                  Traceback (most recent call last)",
      "\u001b[0;32m<ipython-input-13-a4e27c4627d2>\u001b[0m in \u001b[0;36m<module>\u001b[0;34m\u001b[0m\n\u001b[1;32m      1\u001b[0m \u001b[0mprint\u001b[0m\u001b[0;34m(\u001b[0m\u001b[0;34m'GET /api/v1/item-status/{0}'\u001b[0m\u001b[0;34m.\u001b[0m\u001b[0mformat\u001b[0m\u001b[0;34m(\u001b[0m\u001b[0morderid\u001b[0m\u001b[0;34m)\u001b[0m\u001b[0;34m)\u001b[0m\u001b[0;34m\u001b[0m\u001b[0;34m\u001b[0m\u001b[0m\n\u001b[1;32m      2\u001b[0m \u001b[0mresp\u001b[0m \u001b[0;34m=\u001b[0m \u001b[0mespa_api\u001b[0m\u001b[0;34m(\u001b[0m\u001b[0;34m'item-status/{0}'\u001b[0m\u001b[0;34m.\u001b[0m\u001b[0mformat\u001b[0m\u001b[0;34m(\u001b[0m\u001b[0morderid\u001b[0m\u001b[0;34m)\u001b[0m\u001b[0;34m,\u001b[0m \u001b[0mbody\u001b[0m\u001b[0;34m=\u001b[0m\u001b[0;34m{\u001b[0m\u001b[0;34m'status'\u001b[0m\u001b[0;34m:\u001b[0m \u001b[0;34m'complete'\u001b[0m\u001b[0;34m}\u001b[0m\u001b[0;34m)\u001b[0m\u001b[0;34m\u001b[0m\u001b[0;34m\u001b[0m\u001b[0m\n\u001b[0;32m----> 3\u001b[0;31m \u001b[0mprint\u001b[0m\u001b[0;34m(\u001b[0m\u001b[0mjson\u001b[0m\u001b[0;34m.\u001b[0m\u001b[0mdumps\u001b[0m\u001b[0;34m(\u001b[0m\u001b[0mresp\u001b[0m\u001b[0;34m[\u001b[0m\u001b[0morderid\u001b[0m\u001b[0;34m]\u001b[0m\u001b[0;34m,\u001b[0m \u001b[0mindent\u001b[0m\u001b[0;34m=\u001b[0m\u001b[0;36m4\u001b[0m\u001b[0;34m)\u001b[0m\u001b[0;34m)\u001b[0m\u001b[0;34m\u001b[0m\u001b[0;34m\u001b[0m\u001b[0m\n\u001b[0m",
      "\u001b[0;31mKeyError\u001b[0m: 'P100fdrjxk6lm'"
     ]
    }
   ],
   "source": [
    "print('GET /api/v1/item-status/{0}'.format(orderid))\n",
    "resp = espa_api('item-status/{0}'.format(orderid), body={'status': 'complete'})\n",
    "print(json.dumps(resp[orderid], indent=4))"
   ]
  },
  {
   "cell_type": "code",
   "execution_count": null,
   "metadata": {},
   "outputs": [],
   "source": [
    "# Once the order is completed or partially completed, can get the download url's\n",
    "for item in resp[orderid]:\n",
    "    print(\"URL: {0}\".format(item.get('product_dload_url')))"
   ]
  },
  {
   "cell_type": "code",
   "execution_count": null,
   "metadata": {},
   "outputs": [],
   "source": [
    "# Download content stored at url:\n",
    "from datetime import datetime\n",
    "import zipfile\n",
    "import tarfile\n",
    "\n",
    "now = datetime.now()\n",
    "\n",
    "# Time at start\n",
    "current_time = now.strftime(\"%H:%M:%S\")\n",
    "print(\"Start Time =\", current_time)\n",
    "\n",
    "\n",
    "# Download contents at url\n",
    "url1 = 'https://edclpdsftp.cr.usgs.gov/orders/espa-calummcmeekin@mac.com-08242020-042201-261/LE070290302017022101T1-SC20200824163735.tar.gz'\n",
    "\n",
    "r = requests.get(url1, allow_redirects=True)\n",
    "\n",
    "# Save contents of url to local directory\n",
    "open('LE070290302017022101T1-SC20200824163735.tar.gz', 'wb').write(r.content)\n",
    "\n",
    "# Extract files in '.tar.gz' and save to new directory\n",
    "tar = tarfile.open('LE070290302017022101T1-SC20200824163735.tar.gz', \"r:gz\")\n",
    "tar.extractall('Extracted_LE070290302017022101T1-SC20200824163735')\n",
    "tar.close()\n",
    "\n",
    "# Time at finish\n",
    "current_time = now.strftime(\"%H:%M:%S\")\n",
    "print(\"End Time =\", current_time)"
   ]
  },
  {
   "cell_type": "code",
   "execution_count": null,
   "metadata": {},
   "outputs": [],
   "source": [
    "url = 'https://edclpdsftp.cr.usgs.gov/orders/espa-calummcmeekin@mac.com-08242020-042201-261/LE070290302017022101T1-SC20200824163735.tar.gz'\n",
    "\n",
    "filename = url.split('/')[-1]\n",
    "\n",
    "filename = filename.split('.')[0]\n",
    "print(filename)"
   ]
  },
  {
   "cell_type": "markdown",
   "metadata": {},
   "source": [
    "# Find previous orders \n",
    "\n",
    "List backlog orders for the authenticated user."
   ]
  },
  {
   "cell_type": "code",
   "execution_count": null,
   "metadata": {},
   "outputs": [],
   "source": [
    "print('GET /api/v1/list-orders')\n",
    "filters = {\"status\": [\"complete\", \"ordered\"]}  # Here, we ignore any purged orders\n",
    "resp = espa_api('list-orders', body=filters)\n",
    "print(json.dumps(resp, indent=4))"
   ]
  },
  {
   "cell_type": "markdown",
   "metadata": {},
   "source": [
    "## Emergency halt an Order\n",
    "### PLEASE BE CAREFUL!\n",
    "\n",
    "ESPA processes your orders in the sequence in which they are recieved.  \n",
    "You may want to remove blocking orders in your queue, to prioritize your latest orders"
   ]
  },
  {
   "cell_type": "code",
   "execution_count": null,
   "metadata": {},
   "outputs": [],
   "source": [
    "# In-process orders\n",
    "print('GET /api/v1/list-orders')\n",
    "filters = {\"status\": [\"ordered\"]}\n",
    "orders = espa_api('list-orders', body=filters)\n",
    "\n",
    "# Here we cancel an incomplete order\n",
    "orderid = orders[0]\n",
    "cancel_request = {\"orderid\": orderid, \"status\": \"cancelled\"}\n",
    "print('PUT /api/v1/order')\n",
    "order_status = espa_api('order', verb='put', body=cancel_request)\n",
    "\n",
    "print(json.dumps(order_status, indent=4))"
   ]
  },
  {
   "cell_type": "markdown",
   "metadata": {},
   "source": [
    "# Python Script\n",
    "\n",
    "This notebook is available as a script for [download here](/examples/api_demo.py)."
   ]
  }
 ],
 "metadata": {
  "anaconda-cloud": {},
  "kernelspec": {
   "display_name": "Python 3",
   "language": "python",
   "name": "python3"
  },
  "language_info": {
   "codemirror_mode": {
    "name": "ipython",
    "version": 3
   },
   "file_extension": ".py",
   "mimetype": "text/x-python",
   "name": "python",
   "nbconvert_exporter": "python",
   "pygments_lexer": "ipython3",
   "version": "3.8.3"
  }
 },
 "nbformat": 4,
 "nbformat_minor": 1
}
