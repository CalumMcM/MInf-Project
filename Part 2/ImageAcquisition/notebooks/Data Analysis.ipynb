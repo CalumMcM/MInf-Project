{
 "cells": [
  {
   "cell_type": "markdown",
   "metadata": {},
   "source": [
    "Import libraries:"
   ]
  },
  {
   "cell_type": "code",
   "execution_count": 14,
   "metadata": {},
   "outputs": [],
   "source": [
    "import numpy as np\n",
    "import matplotlib\n",
    "import matplotlib.pyplot as plt\n",
    "import rasterio\n",
    "import gzip\n",
    "import datetime \n",
    "from os.path import *\n",
    "from os import listdir\n",
    "import pandas\n",
    "from matplotlib_scalebar.scalebar import ScaleBar\n",
    "from mpl_toolkits.axes_grid1.anchored_artists import AnchoredSizeBar\n"
   ]
  },
  {
   "cell_type": "markdown",
   "metadata": {},
   "source": [
    "# View Landsat 8 RGB and SWIR bands for one Image"
   ]
  },
  {
   "cell_type": "code",
   "execution_count": 4,
   "metadata": {},
   "outputs": [],
   "source": [
    "def normalize_red(array):\n",
    "    return (array - array.min()) / (array.max() - array.min())\n",
    "def normalize_green(array):\n",
    "    return (array - array.min()) / (array.max() - array.min())\n",
    "def normalize_blue(array):\n",
    "    return (array - array.min()) / (array.max() - array.min())"
   ]
  },
  {
   "cell_type": "code",
   "execution_count": 5,
   "metadata": {},
   "outputs": [
    {
     "name": "stdout",
     "output_type": "stream",
     "text": [
      "Running...\n"
     ]
    },
    {
     "data": {
      "image/png": "[encoded data removed]",
      "text/plain": [
       "<Figure size 504x504 with 2 Axes>"
      ]
     },
     "metadata": {},
     "output_type": "display_data"
    }
   ],
   "source": [
    "print (\"Running...\") \n",
    "import matplotlib.gridspec as gridspec\n",
    "\n",
    "fig, axarr = plt.subplots(1,2, figsize=(7,7))#, gridspec_kw = {'wspace':0.5, 'hspace':0})\n",
    "\n",
    "#gs1 = gridspec.GridSpec(4, 4)\n",
    "#gs1.update(wspace=0.025, hspace=0.05) # set the spacing between axes. \n",
    "\n",
    "#fig.subplots_adjust(wspace=0, hspace=0)\n",
    "# Get the list of all quads in the directory they have been downloaded from:\n",
    "TEMP_DIR = '/Volumes/GoogleDrive/My Drive/TemporalCerrado2018/1_0-3_2018-01-01.tif'\n",
    "\n",
    "# GOOD: 1_0-0_2018-01-01.tif, \n",
    "# Really good: 1_0-3_2018-01-01.tif, 1_0-5_2018-01-01.tif\n",
    "# RGB IMAGE:\n",
    "raster = rasterio.open(TEMP_DIR )\n",
    "red = raster.read(4)\n",
    "green = raster.read(3)\n",
    "blue = raster.read(2)\n",
    "\n",
    "red_norm = normalize_red(red)\n",
    "green_norm = normalize_green(green)\n",
    "blue_norm = normalize_blue(blue)\n",
    "\n",
    "# Stack bands\n",
    "rgb = np.dstack((red_norm, green_norm, blue_norm))\n",
    "\n",
    "scalebar = ScaleBar(30, location='lower right')\n",
    "axarr[0].add_artist(scalebar)\n",
    "axarr[0].set_xticks([])\n",
    "axarr[0].set_yticks([])\n",
    "axarr[0].set_ylabel(\"\")\n",
    "#axarr[row][i].set_aspect('equal')\n",
    "axarr[0].imshow(rgb)\n",
    "\n",
    "\n",
    "# SWIR IMAGE:\n",
    "raster = rasterio.open(TEMP_DIR )\n",
    "swir = raster.read(5)\n",
    "\n",
    "scalebar = ScaleBar(30, location='lower right')\n",
    "axarr[1].add_artist(scalebar)\n",
    "axarr[1].set_xticks([])\n",
    "axarr[1].set_yticks([])\n",
    "axarr[1].set_ylabel(\"\")\n",
    "#axarr[row][i].set_aspect('equal')\n",
    "axarr[1].imshow(swir)\n",
    "\n",
    "plt.show()\n"
   ]
  },
  {
   "cell_type": "markdown",
   "metadata": {},
   "source": [
    "## View Metadata of Image"
   ]
  },
  {
   "cell_type": "code",
   "execution_count": 13,
   "metadata": {},
   "outputs": [
    {
     "name": "stdout",
     "output_type": "stream",
     "text": [
      "Key: Image ImageWidth, value 50\n",
      "Key: Image ImageLength, value 52\n",
      "Key: Image BitsPerSample, value [16, 16, 16, 16, 16, 16, 16]\n",
      "Key: Image Compression, value LZW\n",
      "Key: Image PhotometricInterpretation, value 1\n",
      "Key: Image SamplesPerPixel, value 7\n",
      "Key: Image PlanarConfiguration, value 1\n",
      "Key: Image Predictor, value None\n",
      "Key: Image TileWidth, value 256\n",
      "Key: Image TileLength, value 256\n",
      "Key: Image TileOffsets, value 950\n",
      "Key: Image TileByteCounts, value 42364\n",
      "Key: Image ExtraSamples, value UnspecifiedUnspecifiedUnspecifiedUnspecifiedUnspecifiedUnspecified\n",
      "Key: Image SampleFormat, value SignedSignedSignedSignedSignedSignedSigned\n",
      "Key: Image Tag 0x830E, value [(30.0,), (30.0,), (0.0,)]\n",
      "Key: Image Tag 0x8482, value [(0.0,), (0.0,), (0.0,), (533475.0,), (-1594755.0,), (0.0,)]\n",
      "Key: Image Tag 0x87AF, value [1, 1, 0, 7, 1024, 0, 1, 1, 1025, 0, 1, 1, 1026, 34737, 22, 0, 2049, 34737, 7, 22, 2054, 0, 1, 9102, 3072, 0, 1, 32623, 3076, 0, 1, 9001]\n",
      "Key: Image Tag 0x87B1, value WGS 84 / UTM zone 23N|WGS 84|\n",
      "Key: Image Tag 0xA480, value <GDALMetadata>\n",
      "  <Item name=\"DESCRIPTION\" sample=\"0\" role=\"description\">B1</Item>\n",
      "  <Item name=\"DESCRIPTION\" sample=\"1\" role=\"description\">B2</Item>\n",
      "  <Item name=\"DESCRIPTION\" sample=\"2\" role=\"description\">B3</Item>\n",
      "  <Item name=\"DESCRIPTION\" sample=\"3\" role=\"description\">B4</Item>\n",
      "  <Item name=\"DESCRIPTION\" sample=\"4\" role=\"description\">B5</Item>\n",
      "  <Item name=\"DESCRIPTION\" sample=\"5\" role=\"description\">B6</Item>\n",
      "  <Item name=\"DESCRIPTION\" sample=\"6\" role=\"description\">B7</Item>\n",
      "</GDALMetadata>\n",
      "\n"
     ]
    }
   ],
   "source": [
    "TEMP_DIR = r'/Volumes/GoogleDrive/My Drive/TemporalCerrado2018/1_0-3_2018-01-01.tif'\n",
    "\n",
    "import exifread\n",
    "# Open image file for reading (binary mode)\n",
    "f = open(TEMP_DIR, 'rb')\n",
    "\n",
    "# Return Exif tags\n",
    "tags = exifread.process_file(f)\n",
    "\n",
    "# Print the tag/ value pairs\n",
    "for tag in tags.keys():\n",
    "    if tag not in ('JPEGThumbnail', 'TIFFThumbnail', 'Filename', 'EXIF MakerNote'):\n",
    "        print (\"Key: %s, value %s\" % (tag, tags[tag]))"
   ]
  },
  {
   "cell_type": "markdown",
   "metadata": {},
   "source": [
    "# View Date Distribution"
   ]
  },
  {
   "cell_type": "markdown",
   "metadata": {},
   "source": [
    "## Month displacement"
   ]
  },
  {
   "cell_type": "code",
   "execution_count": 54,
   "metadata": {},
   "outputs": [],
   "source": [
    "# Get all but .DS_STORE\n",
    "Dates_DIR = '/Users/calum/Documents/Biome Dates'\n",
    "dirs = os.listdir(Dates_DIR)\n",
    "dirs.remove('.DS_Store')\n",
    "\n",
    "amazon_dates = []\n",
    "cerrado_dates = []\n",
    "caatinga_dates = []\n",
    "\n",
    "for cur_dir in dirs:\n",
    "    quad_DIR = os.path.join(Dates_DIR, cur_dir)\n",
    "    spreadsheets = os.listdir(quad_DIR)\n",
    "    for sheet in spreadsheets:\n",
    "        if sheet != '.DS_Store':\n",
    "            sheet_DIR = os.path.join(quad_DIR, sheet)\n",
    "            dict = pandas.read_csv(sheet_DIR)\n",
    "            dates = dict.Date.str.split('T')\n",
    "            for date in dates:\n",
    "                if 'Caatinga' in quad_DIR:\n",
    "                    caatinga_dates.append(date[0].replace('-', ''))\n",
    "                if 'Amazon' in quad_DIR:\n",
    "                    amazon_dates.append(date[0].replace('-', ''))\n",
    "                if 'Cerrado' in quad_DIR:\n",
    "                    cerrado_dates.append(date[0].replace('-', ''))\n",
    "                "
   ]
  },
  {
   "cell_type": "code",
   "execution_count": 58,
   "metadata": {},
   "outputs": [
    {
     "name": "stdout",
     "output_type": "stream",
     "text": [
      "570493\n",
      "318491\n",
      "444168\n"
     ]
    }
   ],
   "source": [
    "print (np.sum(cat_months))\n",
    "print (np.sum(ama_months))\n",
    "print (np.sum(cer_months))"
   ]
  },
  {
   "cell_type": "code",
   "execution_count": 55,
   "metadata": {},
   "outputs": [
    {
     "data": {
      "image/png": "[encoded data removed]",
      "text/plain": [
       "<Figure size 432x288 with 1 Axes>"
      ]
     },
     "metadata": {
      "needs_background": "light"
     },
     "output_type": "display_data"
    }
   ],
   "source": [
    "dtm = lambda x: int(x[4:6])\n",
    "cat_months = list(map(dtm, caatinga_dates))\n",
    "ama_months = list(map(dtm, amazon_dates))\n",
    "cer_months = list(map(dtm, cerrado_dates))\n",
    "\n",
    "fig, ax = plt.subplots()\n",
    "bins = np.arange(1,14)\n",
    "ax.hist([cat_months, cer_months, ama_months], bins = bins, edgecolor=\"k\", align='left', color=['green', 'blue', 'red'])\n",
    "ax.set_xticks(bins[:-1])\n",
    "ax.set_xticklabels([datetime.date(1900,i,1).strftime('%b') for i in bins[:-1]] )\n",
    "plt.legend(['Caatinga', 'Cerrado', 'Amazon'])\n",
    "plt.title('Number of Images per Month for Each Biome')\n",
    "plt.show()"
   ]
  },
  {
   "cell_type": "code",
   "execution_count": 47,
   "metadata": {},
   "outputs": [
    {
     "name": "stdout",
     "output_type": "stream",
     "text": [
      "10200\n",
      "4148\n",
      "13600\n"
     ]
    }
   ],
   "source": [
    "print (len(caatinga_dates))\n",
    "print (len(amazon_dates))\n",
    "print (len(cerrado_dates))"
   ]
  },
  {
   "cell_type": "markdown",
   "metadata": {},
   "source": [
    "## Quad Displacement"
   ]
  },
  {
   "cell_type": "code",
   "execution_count": null,
   "metadata": {},
   "outputs": [],
   "source": [
    "# Get all but .DS_STORE\n",
    "Dates_DIR = '/Users/calum/Documents/Biome Dates'\n",
    "dirs = os.listdir(Dates_DIR)\n",
    "dirs.remove('.DS_Store')\n",
    "\n",
    "quad_1 = {\"Amazonia\":0, \"Cerrado\":0, \"3\":0, \"Caatinga\":0}\n",
    "quad_1 = {\"1\":0, \"2\":0, \"3\":0, \"4\":0}\n",
    "quad_1 = {\"1\":0, \"2\":0, \"3\":0, \"4\":0}\n",
    "\n",
    "for cur_dir in dirs:\n",
    "    quad_DIR = os.path.join(Dates_DIR, cur_dir)\n",
    "    spreadsheets = os.listdir(quad_DIR)\n",
    "    for sheet in spreadsheets:\n",
    "        if sheet != '.DS_Store':\n",
    "            sheet_DIR = os.path.join(quad_DIR, sheet)\n",
    "            dict = pandas.read_csv(sheet_DIR)\n",
    "            dates = dict.Date.str.split('T')\n",
    "            for date in dates:\n",
    "                if 'Caatinga' in quad_DIR:\n",
    "                    caatinga_dates.append(date[0].replace('-', ''))\n",
    "                if 'Amazon' in quad_DIR:\n",
    "                    amazon_dates.append(date[0].replace('-', ''))\n",
    "                if 'Cerrado' in quad_DIR:\n",
    "                    cerrado_dates.append(date[0].replace('-', ''))\n",
    "                "
   ]
  }
 ],
 "metadata": {
  "interpreter": {
   "hash": "e752f39539ef1227b16399a86ccb4336ab56e56a612fc5bdf6b8b5e793904493"
  },
  "kernelspec": {
   "display_name": "Python 3.8.2 64-bit ('ImagePrep': conda)",
   "name": "python3"
  },
  "language_info": {
   "codemirror_mode": {
    "name": "ipython",
    "version": 3
   },
   "file_extension": ".py",
   "mimetype": "text/x-python",
   "name": "python",
   "nbconvert_exporter": "python",
   "pygments_lexer": "ipython3",
   "version": "3.8.2"
  }
 },
 "nbformat": 4,
 "nbformat_minor": 4
}
