{
  "nbformat": 4,
  "nbformat_minor": 0,
  "metadata": {
    "colab": {
      "name": "MInf Project Part 2 - ML.ipynb",
      "provenance": [],
      "collapsed_sections": []
    },
    "interpreter": {
      "hash": "4b0598c24d91ad1f26a906abbede8c7c81f9664655020d20bca99ac2430dd874"
    },
    "kernelspec": {
      "display_name": "Python 3.8.2 64-bit ('tile2vec': conda)",
      "name": "python3"
    },
    "language_info": {
      "codemirror_mode": {
        "name": "ipython",
        "version": 3
      },
      "file_extension": ".py",
      "mimetype": "text/x-python",
      "name": "python",
      "nbconvert_exporter": "python",
      "pygments_lexer": "ipython3",
      "version": "3.8.2"
    }
  },
  "cells": [
    {
      "cell_type": "markdown",
      "metadata": {
        "id": "TUy25plr003M"
      },
      "source": [
        "# Connect to GDrive and download dependencies"
      ]
    },
    {
      "cell_type": "code",
      "metadata": {
        "colab": {
          "base_uri": "https://localhost:8080/"
        },
        "id": "lo_-K11g055q",
        "outputId": "236bca46-afe1-4804-d78b-b6307361b116"
      },
      "source": [
        "from google.colab import drive\n",
        "drive.mount('/content/drive')"
      ],
      "execution_count": null,
      "outputs": [
        {
          "output_type": "stream",
          "name": "stdout",
          "text": [
            "Mounted at /content/drive\n"
          ]
        }
      ]
    },
    {
      "cell_type": "code",
      "metadata": {
        "colab": {
          "base_uri": "https://localhost:8080/"
        },
        "id": "MQsxn7r51EgM",
        "outputId": "02b95d04-e30d-4122-f6d4-cb69bb48d634"
      },
      "source": [
        "pip install rasterio"
      ],
      "execution_count": null,
      "outputs": [
        {
          "output_type": "stream",
          "name": "stdout",
          "text": [
            "Collecting rasterio\n",
            "  Downloading rasterio-1.2.10-cp37-cp37m-manylinux1_x86_64.whl (19.3 MB)\n",
            "\u001b[K     |████████████████████████████████| 19.3 MB 5.5 MB/s \n",
            "\u001b[?25hCollecting cligj>=0.5\n",
            "  Downloading cligj-0.7.2-py3-none-any.whl (7.1 kB)\n",
            "Requirement already satisfied: attrs in /usr/local/lib/python3.7/dist-packages (from rasterio) (21.2.0)\n",
            "Collecting affine\n",
            "  Downloading affine-2.3.0-py2.py3-none-any.whl (15 kB)\n",
            "Collecting click-plugins\n",
            "  Downloading click_plugins-1.1.1-py2.py3-none-any.whl (7.5 kB)\n",
            "Requirement already satisfied: setuptools in /usr/local/lib/python3.7/dist-packages (from rasterio) (57.4.0)\n",
            "Requirement already satisfied: click>=4.0 in /usr/local/lib/python3.7/dist-packages (from rasterio) (7.1.2)\n",
            "Collecting snuggs>=1.4.1\n",
            "  Downloading snuggs-1.4.7-py3-none-any.whl (5.4 kB)\n",
            "Requirement already satisfied: numpy in /usr/local/lib/python3.7/dist-packages (from rasterio) (1.19.5)\n",
            "Requirement already satisfied: certifi in /usr/local/lib/python3.7/dist-packages (from rasterio) (2021.10.8)\n",
            "Requirement already satisfied: pyparsing>=2.1.6 in /usr/local/lib/python3.7/dist-packages (from snuggs>=1.4.1->rasterio) (3.0.6)\n",
            "Installing collected packages: snuggs, cligj, click-plugins, affine, rasterio\n",
            "Successfully installed affine-2.3.0 click-plugins-1.1.1 cligj-0.7.2 rasterio-1.2.10 snuggs-1.4.7\n"
          ]
        }
      ]
    },
    {
      "cell_type": "code",
      "metadata": {
        "id": "01KqzuW_1JgK"
      },
      "source": [
        "import sys\n",
        "\n",
        "DIR = '/content/drive/MyDrive/'\n",
        "#sys.path.append('../')\n",
        "sys.path.append(DIR)"
      ],
      "execution_count": null,
      "outputs": []
    },
    {
      "cell_type": "code",
      "metadata": {
        "id": "Nl1jAWhL003P",
        "scrolled": true
      },
      "source": [
        "import numpy as np\n",
        "import time\n",
        "import pickle \n",
        "import os\n",
        "import matplotlib.pyplot as plt\n",
        "#import rasterio as rs\n",
        "#from src.sample_tiles import *\n",
        "%load_ext autoreload\n",
        "%autoreload 2\n",
        "%matplotlib inline\n",
        "\n",
        "import tensorflow as tf \n",
        "from sklearn.metrics import classification_report\n",
        "from sklearn.model_selection import train_test_split\n",
        "from tensorflow import keras\n",
        "import keras\n",
        "from tensorflow.keras import datasets,models,layers\n",
        "\n",
        "from keras.callbacks import EarlyStopping\n",
        "from keras.layers import Dense, Conv2D,  MaxPool2D, Flatten, GlobalAveragePooling2D,  BatchNormalization, Layer, Add\n",
        "from keras.models import Sequential\n",
        "from keras.models import Model\n",
        "from tensorflow.keras.optimizers import SGD"
      ],
      "execution_count": null,
      "outputs": []
    },
    {
      "cell_type": "markdown",
      "metadata": {
        "id": "GoM1XTO25zMJ"
      },
      "source": [
        "# Resolve TPU Address"
      ]
    },
    {
      "cell_type": "code",
      "metadata": {
        "colab": {
          "base_uri": "https://localhost:8080/"
        },
        "id": "izhCKSBx5yqp",
        "outputId": "009503a5-6fa2-4ab9-bc92-555b66039a35"
      },
      "source": [
        "use_tpu = True #@param {type:\"boolean\"}\n",
        "\n",
        "if use_tpu:\n",
        "    assert 'COLAB_TPU_ADDR' in os.environ, 'Missing TPU; did you request a TPU in Notebook Settings?'\n",
        "\n",
        "if 'COLAB_TPU_ADDR' in os.environ:\n",
        "  TF_MASTER = 'grpc://{}'.format(os.environ['COLAB_TPU_ADDR'])\n",
        "else:\n",
        "  TF_MASTER=''\n",
        "\n",
        "# TPU address\n",
        "tpu_address = TF_MASTER\n",
        "\n",
        "resolver = tf.distribute.cluster_resolver.TPUClusterResolver(TF_MASTER)\n",
        "tf.config.experimental_connect_to_cluster(resolver)\n",
        "tf.tpu.experimental.initialize_tpu_system(resolver)\n",
        "strategy = tf.distribute.experimental.TPUStrategy(resolver)"
      ],
      "execution_count": null,
      "outputs": [
        {
          "output_type": "stream",
          "name": "stdout",
          "text": [
            "INFO:tensorflow:Deallocate tpu buffers before initializing tpu system.\n"
          ]
        },
        {
          "output_type": "stream",
          "name": "stderr",
          "text": [
            "INFO:tensorflow:Deallocate tpu buffers before initializing tpu system.\n"
          ]
        },
        {
          "output_type": "stream",
          "name": "stdout",
          "text": [
            "INFO:tensorflow:Initializing the TPU system: grpc://10.19.205.58:8470\n"
          ]
        },
        {
          "output_type": "stream",
          "name": "stderr",
          "text": [
            "INFO:tensorflow:Initializing the TPU system: grpc://10.19.205.58:8470\n"
          ]
        },
        {
          "output_type": "stream",
          "name": "stdout",
          "text": [
            "INFO:tensorflow:Finished initializing TPU system.\n"
          ]
        },
        {
          "output_type": "stream",
          "name": "stderr",
          "text": [
            "INFO:tensorflow:Finished initializing TPU system.\n",
            "WARNING:absl:`tf.distribute.experimental.TPUStrategy` is deprecated, please use  the non experimental symbol `tf.distribute.TPUStrategy` instead.\n"
          ]
        },
        {
          "output_type": "stream",
          "name": "stdout",
          "text": [
            "INFO:tensorflow:Found TPU system:\n"
          ]
        },
        {
          "output_type": "stream",
          "name": "stderr",
          "text": [
            "INFO:tensorflow:Found TPU system:\n"
          ]
        },
        {
          "output_type": "stream",
          "name": "stdout",
          "text": [
            "INFO:tensorflow:*** Num TPU Cores: 8\n"
          ]
        },
        {
          "output_type": "stream",
          "name": "stderr",
          "text": [
            "INFO:tensorflow:*** Num TPU Cores: 8\n"
          ]
        },
        {
          "output_type": "stream",
          "name": "stdout",
          "text": [
            "INFO:tensorflow:*** Num TPU Workers: 1\n"
          ]
        },
        {
          "output_type": "stream",
          "name": "stderr",
          "text": [
            "INFO:tensorflow:*** Num TPU Workers: 1\n"
          ]
        },
        {
          "output_type": "stream",
          "name": "stdout",
          "text": [
            "INFO:tensorflow:*** Num TPU Cores Per Worker: 8\n"
          ]
        },
        {
          "output_type": "stream",
          "name": "stderr",
          "text": [
            "INFO:tensorflow:*** Num TPU Cores Per Worker: 8\n"
          ]
        },
        {
          "output_type": "stream",
          "name": "stdout",
          "text": [
            "INFO:tensorflow:*** Available Device: _DeviceAttributes(/job:localhost/replica:0/task:0/device:CPU:0, CPU, 0, 0)\n"
          ]
        },
        {
          "output_type": "stream",
          "name": "stderr",
          "text": [
            "INFO:tensorflow:*** Available Device: _DeviceAttributes(/job:localhost/replica:0/task:0/device:CPU:0, CPU, 0, 0)\n"
          ]
        },
        {
          "output_type": "stream",
          "name": "stdout",
          "text": [
            "INFO:tensorflow:*** Available Device: _DeviceAttributes(/job:worker/replica:0/task:0/device:CPU:0, CPU, 0, 0)\n"
          ]
        },
        {
          "output_type": "stream",
          "name": "stderr",
          "text": [
            "INFO:tensorflow:*** Available Device: _DeviceAttributes(/job:worker/replica:0/task:0/device:CPU:0, CPU, 0, 0)\n"
          ]
        },
        {
          "output_type": "stream",
          "name": "stdout",
          "text": [
            "INFO:tensorflow:*** Available Device: _DeviceAttributes(/job:worker/replica:0/task:0/device:TPU:0, TPU, 0, 0)\n"
          ]
        },
        {
          "output_type": "stream",
          "name": "stderr",
          "text": [
            "INFO:tensorflow:*** Available Device: _DeviceAttributes(/job:worker/replica:0/task:0/device:TPU:0, TPU, 0, 0)\n"
          ]
        },
        {
          "output_type": "stream",
          "name": "stdout",
          "text": [
            "INFO:tensorflow:*** Available Device: _DeviceAttributes(/job:worker/replica:0/task:0/device:TPU:1, TPU, 0, 0)\n"
          ]
        },
        {
          "output_type": "stream",
          "name": "stderr",
          "text": [
            "INFO:tensorflow:*** Available Device: _DeviceAttributes(/job:worker/replica:0/task:0/device:TPU:1, TPU, 0, 0)\n"
          ]
        },
        {
          "output_type": "stream",
          "name": "stdout",
          "text": [
            "INFO:tensorflow:*** Available Device: _DeviceAttributes(/job:worker/replica:0/task:0/device:TPU:2, TPU, 0, 0)\n"
          ]
        },
        {
          "output_type": "stream",
          "name": "stderr",
          "text": [
            "INFO:tensorflow:*** Available Device: _DeviceAttributes(/job:worker/replica:0/task:0/device:TPU:2, TPU, 0, 0)\n"
          ]
        },
        {
          "output_type": "stream",
          "name": "stdout",
          "text": [
            "INFO:tensorflow:*** Available Device: _DeviceAttributes(/job:worker/replica:0/task:0/device:TPU:3, TPU, 0, 0)\n"
          ]
        },
        {
          "output_type": "stream",
          "name": "stderr",
          "text": [
            "INFO:tensorflow:*** Available Device: _DeviceAttributes(/job:worker/replica:0/task:0/device:TPU:3, TPU, 0, 0)\n"
          ]
        },
        {
          "output_type": "stream",
          "name": "stdout",
          "text": [
            "INFO:tensorflow:*** Available Device: _DeviceAttributes(/job:worker/replica:0/task:0/device:TPU:4, TPU, 0, 0)\n"
          ]
        },
        {
          "output_type": "stream",
          "name": "stderr",
          "text": [
            "INFO:tensorflow:*** Available Device: _DeviceAttributes(/job:worker/replica:0/task:0/device:TPU:4, TPU, 0, 0)\n"
          ]
        },
        {
          "output_type": "stream",
          "name": "stdout",
          "text": [
            "INFO:tensorflow:*** Available Device: _DeviceAttributes(/job:worker/replica:0/task:0/device:TPU:5, TPU, 0, 0)\n"
          ]
        },
        {
          "output_type": "stream",
          "name": "stderr",
          "text": [
            "INFO:tensorflow:*** Available Device: _DeviceAttributes(/job:worker/replica:0/task:0/device:TPU:5, TPU, 0, 0)\n"
          ]
        },
        {
          "output_type": "stream",
          "name": "stdout",
          "text": [
            "INFO:tensorflow:*** Available Device: _DeviceAttributes(/job:worker/replica:0/task:0/device:TPU:6, TPU, 0, 0)\n"
          ]
        },
        {
          "output_type": "stream",
          "name": "stderr",
          "text": [
            "INFO:tensorflow:*** Available Device: _DeviceAttributes(/job:worker/replica:0/task:0/device:TPU:6, TPU, 0, 0)\n"
          ]
        },
        {
          "output_type": "stream",
          "name": "stdout",
          "text": [
            "INFO:tensorflow:*** Available Device: _DeviceAttributes(/job:worker/replica:0/task:0/device:TPU:7, TPU, 0, 0)\n"
          ]
        },
        {
          "output_type": "stream",
          "name": "stderr",
          "text": [
            "INFO:tensorflow:*** Available Device: _DeviceAttributes(/job:worker/replica:0/task:0/device:TPU:7, TPU, 0, 0)\n"
          ]
        },
        {
          "output_type": "stream",
          "name": "stdout",
          "text": [
            "INFO:tensorflow:*** Available Device: _DeviceAttributes(/job:worker/replica:0/task:0/device:TPU_SYSTEM:0, TPU_SYSTEM, 0, 0)\n"
          ]
        },
        {
          "output_type": "stream",
          "name": "stderr",
          "text": [
            "INFO:tensorflow:*** Available Device: _DeviceAttributes(/job:worker/replica:0/task:0/device:TPU_SYSTEM:0, TPU_SYSTEM, 0, 0)\n"
          ]
        },
        {
          "output_type": "stream",
          "name": "stdout",
          "text": [
            "INFO:tensorflow:*** Available Device: _DeviceAttributes(/job:worker/replica:0/task:0/device:XLA_CPU:0, XLA_CPU, 0, 0)\n"
          ]
        },
        {
          "output_type": "stream",
          "name": "stderr",
          "text": [
            "INFO:tensorflow:*** Available Device: _DeviceAttributes(/job:worker/replica:0/task:0/device:XLA_CPU:0, XLA_CPU, 0, 0)\n"
          ]
        }
      ]
    },
    {
      "cell_type": "markdown",
      "metadata": {
        "id": "Wl09qmwJtTAs"
      },
      "source": [
        "# ConvLSTM"
      ]
    },
    {
      "cell_type": "markdown",
      "metadata": {
        "id": "pGiuGaMG003R"
      },
      "source": [
        "## Load datasets"
      ]
    },
    {
      "cell_type": "code",
      "metadata": {
        "id": "9HkXSVew2MEM"
      },
      "source": [
        "X_data = np.load('/content/drive/MyDrive/TemporalData-Processed-Train/Collated.npy')\n",
        "y_data = np.load('/content/drive/MyDrive/TemporalData-Processed-Train/labels.npy')\n",
        "X_test = np.load('/content/drive/MyDrive/TemporalData-Processed-Eval/Collated.npy')\n",
        "y_test = np.load('/content/drive/MyDrive/TemporalData-Processed-Eval/labels.npy')]"
      ],
      "execution_count": null,
      "outputs": []
    },
    {
      "cell_type": "code",
      "metadata": {
        "id": "51yaz3_0003b"
      },
      "source": [
        "X_train, X_val, y_train, y_val = train_test_split(X_data[:-1], y_data, test_size=0.20, random_state=42)"
      ],
      "execution_count": null,
      "outputs": []
    },
    {
      "cell_type": "code",
      "metadata": {
        "id": "N9W3ZCuU003b",
        "colab": {
          "base_uri": "https://localhost:8080/"
        },
        "outputId": "dd466b87-7a16-4f16-d628-de9df417c79c"
      },
      "source": [
        "print (\"Training: {}, {}\".format(X_train.shape, y_train.shape))\n",
        "print (\"Validation: {}, {}\".format(X_val.shape, y_val.shape))\n",
        "print (\"Testing: {}, {}\".format(X_test.shape, y_test.shape))"
      ],
      "execution_count": null,
      "outputs": [
        {
          "output_type": "stream",
          "name": "stdout",
          "text": [
            "Training: (6528, 4, 51, 51, 3), (6528, 3)\n",
            "Validation: (1633, 4, 51, 51, 3), (1633, 3)\n",
            "Testing: (2752, 4, 51, 51, 3), (2751, 3)\n"
          ]
        }
      ]
    },
    {
      "cell_type": "code",
      "metadata": {
        "colab": {
          "base_uri": "https://localhost:8080/",
          "height": 567
        },
        "id": "O18Qyezm003c",
        "outputId": "af284162-1d40-413f-bf75-f4db8d2478e7"
      },
      "source": [
        "# Construct a figure on which we will visualize the images.\n",
        "fig, axes = plt.subplots(2, 2, figsize=(10, 8))\n",
        "\n",
        "# Plot each of the sequential images for one random data example.\n",
        "data_choice = np.random.choice(range(len(X_data)), size=1)[0]\n",
        "for idx, ax in enumerate(axes.flat):\n",
        "    new_img = X_data[data_choice][idx]\n",
        "    ax.imshow(np.squeeze(new_img))\n",
        "    ax.set_title(f\"Frame {idx + 1}\")\n",
        "    ax.axis(\"off\")\n",
        "\n",
        "# Print information and display the figure.\n",
        "print(f\"Displaying frames for example {data_choice}.\")\n",
        "plt.show()"
      ],
      "execution_count": null,
      "outputs": [
        {
          "output_type": "stream",
          "name": "stderr",
          "text": [
            "WARNING:matplotlib.image:Clipping input data to the valid range for imshow with RGB data ([0..1] for floats or [0..255] for integers).\n",
            "WARNING:matplotlib.image:Clipping input data to the valid range for imshow with RGB data ([0..1] for floats or [0..255] for integers).\n",
            "WARNING:matplotlib.image:Clipping input data to the valid range for imshow with RGB data ([0..1] for floats or [0..255] for integers).\n",
            "WARNING:matplotlib.image:Clipping input data to the valid range for imshow with RGB data ([0..1] for floats or [0..255] for integers).\n"
          ]
        },
        {
          "output_type": "stream",
          "name": "stdout",
          "text": [
            "Displaying frames for example 1416.\n"
          ]
        },
        {
          "output_type": "display_data",
          "data": {
            "image/png": "[encoded data removed]",
            "text/plain": [
              "<Figure size 720x576 with 4 Axes>"
            ]
          },
          "metadata": {
            "needs_background": "light"
          }
        }
      ]
    },
    {
      "cell_type": "code",
      "metadata": {
        "id": "mClYRTdr003d"
      },
      "source": [
        "def get_model():\n",
        "  model = Sequential()\n",
        "  model.add(\n",
        "      layers.ConvLSTM2D(\n",
        "          filters = 32, \n",
        "          kernel_size = (3, 3), \n",
        "          return_sequences = True, \n",
        "          data_format = \"channels_last\", \n",
        "          input_shape = (4, 51, 51, 3) # For RGB: input_shape = (4, 51, 51, 3) # For SWIR input_shape = (4, 51, 51, 1)\n",
        "      )\n",
        "  )\n",
        "  model.add(\n",
        "      layers.Dropout(0.3)\n",
        "  )\n",
        "\n",
        "  model.add(\n",
        "      layers.ConvLSTM2D(\n",
        "          filters = 32, \n",
        "          kernel_size = (3, 3), \n",
        "          return_sequences = False, \n",
        "          data_format = \"channels_last\", \n",
        "      )\n",
        "  )\n",
        "  model.add(\n",
        "      layers.Dropout(0.3)\n",
        "  )\n",
        "  model.add(\n",
        "      layers.Flatten()\n",
        "  )\n",
        "  model.add(\n",
        "      layers.Dense(256, activation=\"relu\")\n",
        "  )\n",
        "  model.add(\n",
        "      layers.Dropout(0.3)\n",
        "  )\n",
        "  model.add(\n",
        "      layers.Dense(3, activation = \"softmax\")\n",
        "  )\n",
        "  \n",
        "  return model  \n"
      ],
      "execution_count": null,
      "outputs": []
    },
    {
      "cell_type": "code",
      "metadata": {
        "id": "4lMy8mK8_s9e"
      },
      "source": [
        "# For SWIR:\n",
        "\n",
        "# x_train=X_train[:, :, :, :, np.newaxis]\n",
        "\n",
        "# x_val=X_val[:, :, :, :, np.newaxis]\n",
        "\n",
        "# x_test=X_test[:, :, :, :, np.newaxis]\n",
        "\n",
        "# print (x_train.shape)"
      ],
      "execution_count": null,
      "outputs": []
    },
    {
      "cell_type": "code",
      "metadata": {
        "colab": {
          "base_uri": "https://localhost:8080/"
        },
        "id": "Fss-REXc6c94",
        "outputId": "dbbe2863-1c20-4e69-f32a-e6b97f10c595"
      },
      "source": [
        "early_stopping = keras.callbacks.EarlyStopping(monitor=\"val_loss\", patience=10)\n",
        "reduce_lr = keras.callbacks.ReduceLROnPlateau(monitor=\"val_loss\", patience=5)\n",
        "\n",
        "if use_tpu:\n",
        "  with strategy.scope():\n",
        "\n",
        "    model = get_model()\n",
        "    \n",
        "    opt = keras.optimizers.Adam()\n",
        "\n",
        "    model.compile(loss='categorical_crossentropy', optimizer=opt, metrics=[\"accuracy\"])\n",
        "else:\n",
        "  model = get_model()\n",
        "    \n",
        "  opt = keras.optimizers.Adam()\n",
        "\n",
        "  model.compile(loss='categorical_crossentropy', optimizer=opt, metrics=[\"accuracy\"])\n",
        "\n",
        "model.summary()\n",
        "\n",
        "batch_size = 100\n",
        "epochs = 15"
      ],
      "execution_count": null,
      "outputs": [
        {
          "output_type": "stream",
          "name": "stdout",
          "text": [
            "Model: \"sequential_5\"\n",
            "_________________________________________________________________\n",
            " Layer (type)                Output Shape              Param #   \n",
            "=================================================================\n",
            " conv_lstm2d_10 (ConvLSTM2D)  (None, 4, 49, 49, 32)    40448     \n",
            "                                                                 \n",
            " dropout_15 (Dropout)        (None, 4, 49, 49, 32)     0         \n",
            "                                                                 \n",
            " conv_lstm2d_11 (ConvLSTM2D)  (None, 47, 47, 32)       73856     \n",
            "                                                                 \n",
            " dropout_16 (Dropout)        (None, 47, 47, 32)        0         \n",
            "                                                                 \n",
            " flatten_5 (Flatten)         (None, 70688)             0         \n",
            "                                                                 \n",
            " dense_10 (Dense)            (None, 256)               18096384  \n",
            "                                                                 \n",
            " dropout_17 (Dropout)        (None, 256)               0         \n",
            "                                                                 \n",
            " dense_11 (Dense)            (None, 3)                 771       \n",
            "                                                                 \n",
            "=================================================================\n",
            "Total params: 18,211,459\n",
            "Trainable params: 18,211,459\n",
            "Non-trainable params: 0\n",
            "_________________________________________________________________\n"
          ]
        }
      ]
    },
    {
      "cell_type": "code",
      "metadata": {
        "colab": {
          "base_uri": "https://localhost:8080/"
        },
        "id": "SYnBYOUb4_BJ",
        "outputId": "e8d50d6e-6d23-4cee-bdcd-2ae94c9fd96b"
      },
      "source": [
        "callbacks = [early_stopping, reduce_lr]\n",
        "\n",
        "history = model.fit(\n",
        "    X_train,\n",
        "    y_train,\n",
        "    batch_size=batch_size,\n",
        "    epochs=epochs,\n",
        "    validation_data=(X_val, y_val),\n",
        "    callbacks=[early_stopping, reduce_lr],\n",
        ") "
      ],
      "execution_count": null,
      "outputs": [
        {
          "output_type": "stream",
          "name": "stdout",
          "text": [
            "Epoch 1/15\n",
            "66/66 [==============================] - 54s 572ms/step - loss: 1.1070 - accuracy: 0.6679 - val_loss: 0.5504 - val_accuracy: 0.7348 - lr: 0.0010\n",
            "Epoch 2/15\n",
            "66/66 [==============================] - 17s 257ms/step - loss: 0.5235 - accuracy: 0.7695 - val_loss: 0.5019 - val_accuracy: 0.7936 - lr: 0.0010\n",
            "Epoch 3/15\n",
            "66/66 [==============================] - 17s 257ms/step - loss: 0.4741 - accuracy: 0.8027 - val_loss: 0.4347 - val_accuracy: 0.8261 - lr: 0.0010\n",
            "Epoch 4/15\n",
            "66/66 [==============================] - 17s 257ms/step - loss: 0.3971 - accuracy: 0.8366 - val_loss: 0.3706 - val_accuracy: 0.8481 - lr: 0.0010\n",
            "Epoch 5/15\n",
            "66/66 [==============================] - 17s 258ms/step - loss: 0.3857 - accuracy: 0.8427 - val_loss: 0.3586 - val_accuracy: 0.8530 - lr: 0.0010\n",
            "Epoch 6/15\n",
            "66/66 [==============================] - 17s 257ms/step - loss: 0.3577 - accuracy: 0.8542 - val_loss: 0.3650 - val_accuracy: 0.8487 - lr: 0.0010\n",
            "Epoch 7/15\n",
            "66/66 [==============================] - 17s 257ms/step - loss: 0.3426 - accuracy: 0.8608 - val_loss: 0.3680 - val_accuracy: 0.8524 - lr: 0.0010\n",
            "Epoch 8/15\n",
            "66/66 [==============================] - 17s 257ms/step - loss: 0.3393 - accuracy: 0.8644 - val_loss: 0.3629 - val_accuracy: 0.8487 - lr: 0.0010\n",
            "Epoch 9/15\n",
            "66/66 [==============================] - 17s 257ms/step - loss: 0.3323 - accuracy: 0.8666 - val_loss: 0.3442 - val_accuracy: 0.8543 - lr: 0.0010\n",
            "Epoch 10/15\n",
            "66/66 [==============================] - 17s 258ms/step - loss: 0.3182 - accuracy: 0.8761 - val_loss: 0.3866 - val_accuracy: 0.8524 - lr: 0.0010\n",
            "Epoch 11/15\n",
            "66/66 [==============================] - 17s 257ms/step - loss: 0.3186 - accuracy: 0.8739 - val_loss: 0.3619 - val_accuracy: 0.8543 - lr: 0.0010\n",
            "Epoch 12/15\n",
            "66/66 [==============================] - 17s 258ms/step - loss: 0.2999 - accuracy: 0.8791 - val_loss: 0.3908 - val_accuracy: 0.8487 - lr: 0.0010\n",
            "Epoch 13/15\n",
            "66/66 [==============================] - 17s 257ms/step - loss: 0.2967 - accuracy: 0.8811 - val_loss: 0.3881 - val_accuracy: 0.8494 - lr: 0.0010\n",
            "Epoch 14/15\n",
            "66/66 [==============================] - 17s 258ms/step - loss: 0.3060 - accuracy: 0.8802 - val_loss: 0.3954 - val_accuracy: 0.8371 - lr: 0.0010\n",
            "Epoch 15/15\n",
            "66/66 [==============================] - 17s 257ms/step - loss: 0.2403 - accuracy: 0.9038 - val_loss: 0.3704 - val_accuracy: 0.8549 - lr: 1.0000e-04\n"
          ]
        }
      ]
    },
    {
      "cell_type": "code",
      "metadata": {
        "id": "UPzLTrwPCqF_"
      },
      "source": [
        "y_pred = model.predict(X_test[:-1])"
      ],
      "execution_count": null,
      "outputs": []
    },
    {
      "cell_type": "code",
      "metadata": {
        "colab": {
          "base_uri": "https://localhost:8080/"
        },
        "id": "7S15ynR5003e",
        "outputId": "35ecddd5-3c67-4fb5-a4ee-2f4f3059a114"
      },
      "source": [
        "\n",
        "y_pred_ugly = y_pred.argmax(axis=1)\n",
        "y_test_ugly = y_test.argmax(axis=1)\n",
        "\n",
        "print(classification_report(y_test_ugly, y_pred_ugly, target_names=['Amazon', 'Cerrado', 'Caatinga'], digits = 3))"
      ],
      "execution_count": null,
      "outputs": [
        {
          "output_type": "stream",
          "name": "stdout",
          "text": [
            "              precision    recall  f1-score   support\n",
            "\n",
            "      Amazon      0.921     0.901     0.911      1171\n",
            "     Cerrado      0.725     0.995     0.839       800\n",
            "    Caatinga      0.868     0.565     0.685       780\n",
            "\n",
            "    accuracy                          0.833      2751\n",
            "   macro avg      0.838     0.820     0.812      2751\n",
            "weighted avg      0.849     0.833     0.826      2751\n",
            "\n"
          ]
        }
      ]
    },
    {
      "cell_type": "code",
      "metadata": {
        "id": "xyBzzNFPDite"
      },
      "source": [
        "with open('/content/drive/MyDrive/ConvLSTM/ConvLSTM_History_2_Layers', 'wb') as f:\n",
        "        pickle.dump(history.history, f)\n",
        "      \n",
        "f.close()"
      ],
      "execution_count": null,
      "outputs": []
    },
    {
      "cell_type": "code",
      "metadata": {
        "id": "RHnlMnqH003e"
      },
      "source": [
        "model.save_weights(os.path.join(\"/content/drive/MyDrive/ConvLSTM/\", 'ConvLSTM-2Layers.h5'), overwrite=True)"
      ],
      "execution_count": null,
      "outputs": []
    },
    {
      "cell_type": "markdown",
      "metadata": {
        "id": "jAYeQ7brC3Gn"
      },
      "source": [
        "### Example of how to load the trained model"
      ]
    },
    {
      "cell_type": "code",
      "metadata": {
        "id": "wd8UjlmBCbQC",
        "colab": {
          "base_uri": "https://localhost:8080/",
          "height": 460
        },
        "outputId": "00bad27d-b7aa-4b26-f27a-e55681e2a31a"
      },
      "source": [
        "# Create a basic model instance\n",
        "model = get_model()\n",
        "model.load_weights(\"/content/drive/MyDrive/ConvLSTM-2Layers.h5\")"
      ],
      "execution_count": null,
      "outputs": [
        {
          "output_type": "error",
          "ename": "OSError",
          "evalue": "ignored",
          "traceback": [
            "\u001b[0;31m---------------------------------------------------------------------------\u001b[0m",
            "\u001b[0;31mOSError\u001b[0m                                   Traceback (most recent call last)",
            "\u001b[0;32m<ipython-input-41-513d53f27bad>\u001b[0m in \u001b[0;36m<module>\u001b[0;34m()\u001b[0m\n\u001b[1;32m      1\u001b[0m \u001b[0;31m# Create a basic model instance\u001b[0m\u001b[0;34m\u001b[0m\u001b[0;34m\u001b[0m\u001b[0;34m\u001b[0m\u001b[0m\n\u001b[1;32m      2\u001b[0m \u001b[0mmodel\u001b[0m \u001b[0;34m=\u001b[0m \u001b[0mget_model\u001b[0m\u001b[0;34m(\u001b[0m\u001b[0;34m)\u001b[0m\u001b[0;34m\u001b[0m\u001b[0;34m\u001b[0m\u001b[0m\n\u001b[0;32m----> 3\u001b[0;31m \u001b[0mmodel\u001b[0m\u001b[0;34m.\u001b[0m\u001b[0mload_weights\u001b[0m\u001b[0;34m(\u001b[0m\u001b[0;34m\"/content/drive/MyDrive/TemporalData-Processed/ConvLSTM-SWIR.h5\"\u001b[0m\u001b[0;34m)\u001b[0m\u001b[0;34m\u001b[0m\u001b[0;34m\u001b[0m\u001b[0m\n\u001b[0m",
            "\u001b[0;32m/usr/local/lib/python3.7/dist-packages/keras/utils/traceback_utils.py\u001b[0m in \u001b[0;36merror_handler\u001b[0;34m(*args, **kwargs)\u001b[0m\n\u001b[1;32m     65\u001b[0m     \u001b[0;32mexcept\u001b[0m \u001b[0mException\u001b[0m \u001b[0;32mas\u001b[0m \u001b[0me\u001b[0m\u001b[0;34m:\u001b[0m  \u001b[0;31m# pylint: disable=broad-except\u001b[0m\u001b[0;34m\u001b[0m\u001b[0;34m\u001b[0m\u001b[0m\n\u001b[1;32m     66\u001b[0m       \u001b[0mfiltered_tb\u001b[0m \u001b[0;34m=\u001b[0m \u001b[0m_process_traceback_frames\u001b[0m\u001b[0;34m(\u001b[0m\u001b[0me\u001b[0m\u001b[0;34m.\u001b[0m\u001b[0m__traceback__\u001b[0m\u001b[0;34m)\u001b[0m\u001b[0;34m\u001b[0m\u001b[0;34m\u001b[0m\u001b[0m\n\u001b[0;32m---> 67\u001b[0;31m       \u001b[0;32mraise\u001b[0m \u001b[0me\u001b[0m\u001b[0;34m.\u001b[0m\u001b[0mwith_traceback\u001b[0m\u001b[0;34m(\u001b[0m\u001b[0mfiltered_tb\u001b[0m\u001b[0;34m)\u001b[0m \u001b[0;32mfrom\u001b[0m \u001b[0;32mNone\u001b[0m\u001b[0;34m\u001b[0m\u001b[0;34m\u001b[0m\u001b[0m\n\u001b[0m\u001b[1;32m     68\u001b[0m     \u001b[0;32mfinally\u001b[0m\u001b[0;34m:\u001b[0m\u001b[0;34m\u001b[0m\u001b[0;34m\u001b[0m\u001b[0m\n\u001b[1;32m     69\u001b[0m       \u001b[0;32mdel\u001b[0m \u001b[0mfiltered_tb\u001b[0m\u001b[0;34m\u001b[0m\u001b[0;34m\u001b[0m\u001b[0m\n",
            "\u001b[0;32m/usr/local/lib/python3.7/dist-packages/h5py/_hl/files.py\u001b[0m in \u001b[0;36m__init__\u001b[0;34m(self, name, mode, driver, libver, userblock_size, swmr, rdcc_nslots, rdcc_nbytes, rdcc_w0, track_order, fs_strategy, fs_persist, fs_threshold, **kwds)\u001b[0m\n\u001b[1;32m    425\u001b[0m                                fapl, fcpl=make_fcpl(track_order=track_order, fs_strategy=fs_strategy,\n\u001b[1;32m    426\u001b[0m                                fs_persist=fs_persist, fs_threshold=fs_threshold),\n\u001b[0;32m--> 427\u001b[0;31m                                swmr=swmr)\n\u001b[0m\u001b[1;32m    428\u001b[0m \u001b[0;34m\u001b[0m\u001b[0m\n\u001b[1;32m    429\u001b[0m             \u001b[0;32mif\u001b[0m \u001b[0misinstance\u001b[0m\u001b[0;34m(\u001b[0m\u001b[0mlibver\u001b[0m\u001b[0;34m,\u001b[0m \u001b[0mtuple\u001b[0m\u001b[0;34m)\u001b[0m\u001b[0;34m:\u001b[0m\u001b[0;34m\u001b[0m\u001b[0;34m\u001b[0m\u001b[0m\n",
            "\u001b[0;32m/usr/local/lib/python3.7/dist-packages/h5py/_hl/files.py\u001b[0m in \u001b[0;36mmake_fid\u001b[0;34m(name, mode, userblock_size, fapl, fcpl, swmr)\u001b[0m\n\u001b[1;32m    188\u001b[0m         \u001b[0;32mif\u001b[0m \u001b[0mswmr\u001b[0m \u001b[0;32mand\u001b[0m \u001b[0mswmr_support\u001b[0m\u001b[0;34m:\u001b[0m\u001b[0;34m\u001b[0m\u001b[0;34m\u001b[0m\u001b[0m\n\u001b[1;32m    189\u001b[0m             \u001b[0mflags\u001b[0m \u001b[0;34m|=\u001b[0m \u001b[0mh5f\u001b[0m\u001b[0;34m.\u001b[0m\u001b[0mACC_SWMR_READ\u001b[0m\u001b[0;34m\u001b[0m\u001b[0;34m\u001b[0m\u001b[0m\n\u001b[0;32m--> 190\u001b[0;31m         \u001b[0mfid\u001b[0m \u001b[0;34m=\u001b[0m \u001b[0mh5f\u001b[0m\u001b[0;34m.\u001b[0m\u001b[0mopen\u001b[0m\u001b[0;34m(\u001b[0m\u001b[0mname\u001b[0m\u001b[0;34m,\u001b[0m \u001b[0mflags\u001b[0m\u001b[0;34m,\u001b[0m \u001b[0mfapl\u001b[0m\u001b[0;34m=\u001b[0m\u001b[0mfapl\u001b[0m\u001b[0;34m)\u001b[0m\u001b[0;34m\u001b[0m\u001b[0;34m\u001b[0m\u001b[0m\n\u001b[0m\u001b[1;32m    191\u001b[0m     \u001b[0;32melif\u001b[0m \u001b[0mmode\u001b[0m \u001b[0;34m==\u001b[0m \u001b[0;34m'r+'\u001b[0m\u001b[0;34m:\u001b[0m\u001b[0;34m\u001b[0m\u001b[0;34m\u001b[0m\u001b[0m\n\u001b[1;32m    192\u001b[0m         \u001b[0mfid\u001b[0m \u001b[0;34m=\u001b[0m \u001b[0mh5f\u001b[0m\u001b[0;34m.\u001b[0m\u001b[0mopen\u001b[0m\u001b[0;34m(\u001b[0m\u001b[0mname\u001b[0m\u001b[0;34m,\u001b[0m \u001b[0mh5f\u001b[0m\u001b[0;34m.\u001b[0m\u001b[0mACC_RDWR\u001b[0m\u001b[0;34m,\u001b[0m \u001b[0mfapl\u001b[0m\u001b[0;34m=\u001b[0m\u001b[0mfapl\u001b[0m\u001b[0;34m)\u001b[0m\u001b[0;34m\u001b[0m\u001b[0;34m\u001b[0m\u001b[0m\n",
            "\u001b[0;32mh5py/_objects.pyx\u001b[0m in \u001b[0;36mh5py._objects.with_phil.wrapper\u001b[0;34m()\u001b[0m\n",
            "\u001b[0;32mh5py/_objects.pyx\u001b[0m in \u001b[0;36mh5py._objects.with_phil.wrapper\u001b[0;34m()\u001b[0m\n",
            "\u001b[0;32mh5py/h5f.pyx\u001b[0m in \u001b[0;36mh5py.h5f.open\u001b[0;34m()\u001b[0m\n",
            "\u001b[0;31mOSError\u001b[0m: Unable to open file (unable to open file: name = '/content/drive/MyDrive/TemporalData-Processed/ConvLSTM-SWIR.h5', errno = 2, error message = 'No such file or directory', flags = 0, o_flags = 0)"
          ]
        }
      ]
    },
    {
      "cell_type": "markdown",
      "metadata": {
        "id": "wdqV0BCCPjo8"
      },
      "source": [
        "View Training History"
      ]
    },
    {
      "cell_type": "code",
      "metadata": {
        "id": "Fgz4K4lVKuTf"
      },
      "source": [
        "history = pickle.load(open('/content/drive/MyDrive/ConvLSTM/ConvLSTM_History_SWIR', \"rb\"))"
      ],
      "execution_count": null,
      "outputs": []
    },
    {
      "cell_type": "code",
      "metadata": {
        "id": "pB5u1KQUQMqP"
      },
      "source": [
        "history_keys = list(history.keys())\n",
        "\n",
        "loss = history_keys[0]\n",
        "acc = history_keys[1]\n",
        "val_loss = history_keys[2]\n",
        "val_acc = history_keys[3] "
      ],
      "execution_count": null,
      "outputs": []
    },
    {
      "cell_type": "code",
      "metadata": {
        "colab": {
          "base_uri": "https://localhost:8080/",
          "height": 561
        },
        "id": "lSrerOhUQfPx",
        "outputId": "7da38823-8d3a-4482-e701-7f810ef18e95"
      },
      "source": [
        "plt.style.use('fivethirtyeight')\n",
        "plt.plot(history[acc], linewidth=3)\n",
        "plt.plot(history[val_acc], linewidth=2)\n",
        "plt.ylim([0.2, 1])\n",
        "plt.title('Accuracy')\n",
        "plt.ylabel('Accuracy')\n",
        "plt.xlabel('Epoch')\n",
        "plt.legend(['Train', 'Val'], loc='lower right')\n",
        "plt.tight_layout()\n",
        "plt.savefig('/content/drive/MyDrive/ConvLSTM/AccFigure-SWIR')\n",
        "plt.show()\n",
        "\n",
        "\n",
        "# summarize history for loss\n",
        "plt.style.use('fivethirtyeight')\n",
        "plt.plot(history[loss], linestyle='--', linewidth=2)\n",
        "plt.plot(history[val_loss], linewidth=2)\n",
        "plt.title('Loss')\n",
        "plt.ylabel('Loss')\n",
        "plt.xlabel('Epoch')\n",
        "plt.legend(['Train', 'Val'], loc='upper right')\n",
        "plt.tight_layout()\n",
        "plt.savefig('/content/drive/MyDrive/ConvLSTM/LossFigure-SWIR')\n",
        "plt.show()"
      ],
      "execution_count": null,
      "outputs": [
        {
          "output_type": "display_data",
          "data": {
            "image/png": "[encoded data removed]",
            "text/plain": [
              "<Figure size 432x288 with 1 Axes>"
            ]
          },
          "metadata": {}
        },
        {
          "output_type": "display_data",
          "data": {
            "image/png": "[encoded data removed]",
            "text/plain": [
              "<Figure size 432x288 with 1 Axes>"
            ]
          },
          "metadata": {}
        }
      ]
    },
    {
      "cell_type": "markdown",
      "metadata": {
        "id": "GmFPXHr4tX2Q"
      },
      "source": [
        "# ResNet18"
      ]
    },
    {
      "cell_type": "code",
      "metadata": {
        "id": "zgSJ-OZYugr_"
      },
      "source": [
        "X_data = np.load('/content/drive/MyDrive/ResNet18-2019-Training/train_data.npy')\n",
        "y_data = np.load('/content/drive/MyDrive/ResNet18-2019-Training/labels.npy')\n",
        "X_test = np.load('/content/drive/MyDrive/ResNet18-2019-Training/test_data.npy')\n",
        "y_test = np.load('/content/drive/MyDrive/ResNet18-2019-Training/test_labels.npy')"
      ],
      "execution_count": null,
      "outputs": []
    },
    {
      "cell_type": "code",
      "metadata": {
        "id": "q7hqxSTMvYvY"
      },
      "source": [
        "X_train, X_val, y_train, y_val = train_test_split(X_data, y_data, test_size=0.20, random_state=42)"
      ],
      "execution_count": null,
      "outputs": []
    },
    {
      "cell_type": "code",
      "metadata": {
        "colab": {
          "base_uri": "https://localhost:8080/"
        },
        "id": "QWlkyKRrviDp",
        "outputId": "b75f3177-e593-420d-c791-a97d5e856cc5"
      },
      "source": [
        "print (\"Training: {}, {}\".format(X_train.shape, y_train.shape))\n",
        "print (\"Validation: {}, {}\".format(X_val.shape, y_val.shape))\n",
        "print (\"Testing: {}, {}\".format(X_test.shape, y_test.shape))"
      ],
      "execution_count": null,
      "outputs": [
        {
          "output_type": "stream",
          "name": "stdout",
          "text": [
            "Training: (20782, 51, 51, 3), (20782, 3)\n",
            "Validation: (5196, 51, 51, 3), (5196, 3)\n",
            "Testing: (7267, 51, 51, 3), (7267, 3)\n"
          ]
        }
      ]
    },
    {
      "cell_type": "code",
      "metadata": {
        "id": "lkMFyMzRRAqW"
      },
      "source": [
        "class ResnetBlock(Model):\n",
        "    \"\"\"\n",
        "    A standard resnet block.\n",
        "    \"\"\"\n",
        "\n",
        "    def __init__(self, channels: int, down_sample=False):\n",
        "        \"\"\"\n",
        "        channels: same as number of convolution kernels\n",
        "        \"\"\"\n",
        "        super().__init__()\n",
        "\n",
        "        self.__channels = channels\n",
        "        self.__down_sample = down_sample\n",
        "        self.__strides = [2, 1] if down_sample else [1, 1]\n",
        "\n",
        "        KERNEL_SIZE = (3, 3)\n",
        "        # use He initialization, instead of Xavier (a.k.a 'glorot_uniform' in Keras), as suggested in [2]\n",
        "        INIT_SCHEME = \"he_normal\"\n",
        "\n",
        "        self.conv_1 = Conv2D(self.__channels, strides=self.__strides[0],\n",
        "                             kernel_size=KERNEL_SIZE, padding=\"same\", kernel_initializer=INIT_SCHEME)\n",
        "        self.bn_1 = BatchNormalization()\n",
        "        self.conv_2 = Conv2D(self.__channels, strides=self.__strides[1],\n",
        "                             kernel_size=KERNEL_SIZE, padding=\"same\", kernel_initializer=INIT_SCHEME)\n",
        "        self.bn_2 = BatchNormalization()\n",
        "        self.merge = Add()\n",
        "\n",
        "        if self.__down_sample:\n",
        "            # perform down sampling using stride of 2, according to [1].\n",
        "            self.res_conv = Conv2D(\n",
        "                self.__channels, strides=2, kernel_size=(1, 1), kernel_initializer=INIT_SCHEME, padding=\"same\")\n",
        "            self.res_bn = BatchNormalization()\n",
        "\n",
        "    def call(self, inputs):\n",
        "        res = inputs\n",
        "\n",
        "        x = self.conv_1(inputs)\n",
        "        x = self.bn_1(x)\n",
        "        x = tf.nn.relu(x)\n",
        "        x = self.conv_2(x)\n",
        "        x = self.bn_2(x)\n",
        "\n",
        "        if self.__down_sample:\n",
        "            res = self.res_conv(res)\n",
        "            res = self.res_bn(res)\n",
        "\n",
        "        # if not perform down sample, then add a shortcut directly\n",
        "        x = self.merge([x, res])\n",
        "        out = tf.nn.relu(x)\n",
        "        return out\n",
        "\n",
        "\n",
        "class ResNet18(Model):\n",
        "\n",
        "    def __init__(self, num_classes, **kwargs):\n",
        "        \"\"\"\n",
        "            num_classes: number of classes in specific classification task.\n",
        "        \"\"\"\n",
        "        super().__init__(**kwargs)\n",
        "        self.conv_1 = Conv2D(64, (7, 7), strides=2,\n",
        "                             padding=\"same\", kernel_initializer=\"he_normal\")\n",
        "        self.init_bn = BatchNormalization()\n",
        "        self.pool_2 = MaxPool2D(pool_size=(2, 2), strides=2, padding=\"same\")\n",
        "        self.res_1_1 = ResnetBlock(64)\n",
        "        self.res_1_2 = ResnetBlock(64)\n",
        "        #self.res_2_1 = ResnetBlock(128, down_sample=True)\n",
        "        #self.res_2_2 = ResnetBlock(128)\n",
        "        #self.res_3_1 = ResnetBlock(256, down_sample=True)\n",
        "        #self.res_3_2 = ResnetBlock(256)\n",
        "        # self.res_4_1 = ResnetBlock(512, down_sample=True)\n",
        "        # self.res_4_2 = ResnetBlock(512)\n",
        "        self.avg_pool = GlobalAveragePooling2D()\n",
        "        self.flat = Flatten()\n",
        "        self.fc = Dense(num_classes, activation=\"softmax\")\n",
        "\n",
        "    def call(self, inputs):\n",
        "        out = self.conv_1(inputs)\n",
        "        out = self.init_bn(out)\n",
        "        out = tf.nn.relu(out)\n",
        "        out = self.pool_2(out)\n",
        "        #for res_block in [self.res_1_1, self.res_1_2, self.res_2_1, self.res_2_2, self.res_3_1, self.res_3_2, self.res_4_1, self.res_4_2]:\n",
        "        for res_block in [self.res_1_1, self.res_1_2]:\n",
        "            out = res_block(out)\n",
        "        out = self.avg_pool(out)\n",
        "        out = self.flat(out)\n",
        "        out = self.fc(out)\n",
        "        return out"
      ],
      "execution_count": null,
      "outputs": []
    },
    {
      "cell_type": "code",
      "metadata": {
        "colab": {
          "base_uri": "https://localhost:8080/"
        },
        "id": "ET-Bb02OuSvl",
        "outputId": "7ce2e22b-e931-447d-83ba-bd21e9d134a9"
      },
      "source": [
        "#use categorical_crossentropy since the label is one-hot encoded\n",
        "if use_tpu:\n",
        "  with strategy.scope():\n",
        "\n",
        "    model = ResNet18(3)\n",
        "\n",
        "    model.build(input_shape = (None,51,51,3))\n",
        "\n",
        "    model.compile(optimizer = \"adam\",loss='categorical_crossentropy', metrics=[\"accuracy\"]) \n",
        "else:\n",
        "  model = get_model()\n",
        "    \n",
        "  opt = keras.optimizers.Adam()\n",
        "\n",
        "  model.compile(optimizer = \"adam\",loss='categorical_crossentropy', metrics=[\"accuracy\"]) \n",
        "\n",
        "\n",
        "# opt = SGD(learning_rate=0.1,momentum=0.9,decay = 1e-04) #parameters suggested by He [1]\n",
        "model.summary()"
      ],
      "execution_count": null,
      "outputs": [
        {
          "output_type": "stream",
          "name": "stdout",
          "text": [
            "WARNING:tensorflow:AutoGraph could not transform <bound method ResnetBlock.call of <__main__.ResnetBlock object at 0x7fe77f160050>> and will run it as-is.\n",
            "Cause: mangled names are not yet supported\n",
            "To silence this warning, decorate the function with @tf.autograph.experimental.do_not_convert\n"
          ]
        },
        {
          "output_type": "stream",
          "name": "stderr",
          "text": [
            "WARNING:tensorflow:AutoGraph could not transform <bound method ResnetBlock.call of <__main__.ResnetBlock object at 0x7fe77f160050>> and will run it as-is.\n",
            "Cause: mangled names are not yet supported\n",
            "To silence this warning, decorate the function with @tf.autograph.experimental.do_not_convert\n"
          ]
        },
        {
          "output_type": "stream",
          "name": "stdout",
          "text": [
            "WARNING: AutoGraph could not transform <bound method ResnetBlock.call of <__main__.ResnetBlock object at 0x7fe77f160050>> and will run it as-is.\n",
            "Cause: mangled names are not yet supported\n",
            "To silence this warning, decorate the function with @tf.autograph.experimental.do_not_convert\n",
            "Model: \"res_net18_6\"\n",
            "_________________________________________________________________\n",
            " Layer (type)                Output Shape              Param #   \n",
            "=================================================================\n",
            " conv2d_65 (Conv2D)          multiple                  9472      \n",
            "                                                                 \n",
            " batch_normalization_65 (Bat  multiple                 256       \n",
            " chNormalization)                                                \n",
            "                                                                 \n",
            " max_pooling2d_6 (MaxPooling  multiple                 0         \n",
            " 2D)                                                             \n",
            "                                                                 \n",
            " resnet_block_26 (ResnetBloc  multiple                 74368     \n",
            " k)                                                              \n",
            "                                                                 \n",
            " resnet_block_27 (ResnetBloc  multiple                 74368     \n",
            " k)                                                              \n",
            "                                                                 \n",
            " global_average_pooling2d_6   multiple                 0         \n",
            " (GlobalAveragePooling2D)                                        \n",
            "                                                                 \n",
            " flatten_6 (Flatten)         multiple                  0         \n",
            "                                                                 \n",
            " dense_6 (Dense)             multiple                  195       \n",
            "                                                                 \n",
            "=================================================================\n",
            "Total params: 158,659\n",
            "Trainable params: 158,019\n",
            "Non-trainable params: 640\n",
            "_________________________________________________________________\n"
          ]
        }
      ]
    },
    {
      "cell_type": "code",
      "metadata": {
        "colab": {
          "base_uri": "https://localhost:8080/"
        },
        "id": "GI3woSJfwKwP",
        "outputId": "21b433a7-a562-4288-cf87-3c094078d089"
      },
      "source": [
        "from keras.callbacks import EarlyStopping\n",
        "\n",
        "early_stopping = keras.callbacks.EarlyStopping(monitor=\"val_loss\", patience=4)\n",
        "reduce_lr = keras.callbacks.ReduceLROnPlateau(monitor=\"val_loss\", patience=4)\n",
        "\n",
        "\n",
        "batch_size = 100\n",
        "epochs = 30\n",
        "\n",
        "callbacks = [early_stopping, reduce_lr]\n",
        "\n",
        "history = model.fit(\n",
        "    X_train,\n",
        "    y_train,\n",
        "    batch_size=batch_size,\n",
        "    epochs=epochs,\n",
        "    validation_data=(X_val, y_val),\n",
        "    callbacks=[early_stopping, reduce_lr],\n",
        ") "
      ],
      "execution_count": null,
      "outputs": [
        {
          "output_type": "stream",
          "name": "stdout",
          "text": [
            "Epoch 1/30\n",
            "208/208 [==============================] - 12s 40ms/step - loss: 0.1521 - accuracy: 0.9420 - val_loss: 0.2351 - val_accuracy: 0.9080 - lr: 1.0000e-05\n",
            "Epoch 2/30\n",
            "208/208 [==============================] - 6s 27ms/step - loss: 0.1494 - accuracy: 0.9437 - val_loss: 0.2337 - val_accuracy: 0.9078 - lr: 1.0000e-05\n",
            "Epoch 3/30\n",
            "208/208 [==============================] - 6s 27ms/step - loss: 0.1504 - accuracy: 0.9443 - val_loss: 0.2367 - val_accuracy: 0.9067 - lr: 1.0000e-05\n",
            "Epoch 4/30\n",
            "208/208 [==============================] - 6s 27ms/step - loss: 0.1456 - accuracy: 0.9433 - val_loss: 0.2374 - val_accuracy: 0.9067 - lr: 1.0000e-05\n",
            "Epoch 5/30\n",
            "208/208 [==============================] - 6s 27ms/step - loss: 0.1449 - accuracy: 0.9465 - val_loss: 0.2337 - val_accuracy: 0.9078 - lr: 1.0000e-05\n",
            "Epoch 6/30\n",
            "208/208 [==============================] - 5s 26ms/step - loss: 0.1432 - accuracy: 0.9448 - val_loss: 0.2374 - val_accuracy: 0.9092 - lr: 1.0000e-05\n",
            "Epoch 7/30\n",
            "208/208 [==============================] - 5s 25ms/step - loss: 0.1453 - accuracy: 0.9464 - val_loss: 0.2410 - val_accuracy: 0.9059 - lr: 1.0000e-05\n",
            "Epoch 8/30\n",
            "208/208 [==============================] - 5s 25ms/step - loss: 0.1408 - accuracy: 0.9482 - val_loss: 0.2356 - val_accuracy: 0.9074 - lr: 1.0000e-06\n",
            "Epoch 9/30\n",
            "208/208 [==============================] - 5s 26ms/step - loss: 0.1439 - accuracy: 0.9473 - val_loss: 0.2356 - val_accuracy: 0.9074 - lr: 1.0000e-06\n",
            "Epoch 10/30\n",
            "208/208 [==============================] - 5s 26ms/step - loss: 0.1446 - accuracy: 0.9457 - val_loss: 0.2347 - val_accuracy: 0.9078 - lr: 1.0000e-06\n",
            "Epoch 11/30\n",
            "208/208 [==============================] - 5s 26ms/step - loss: 0.1399 - accuracy: 0.9481 - val_loss: 0.2345 - val_accuracy: 0.9086 - lr: 1.0000e-06\n",
            "Epoch 12/30\n",
            "208/208 [==============================] - 6s 27ms/step - loss: 0.1435 - accuracy: 0.9465 - val_loss: 0.2346 - val_accuracy: 0.9076 - lr: 1.0000e-06\n",
            "Epoch 13/30\n",
            "208/208 [==============================] - 5s 26ms/step - loss: 0.1396 - accuracy: 0.9486 - val_loss: 0.2351 - val_accuracy: 0.9063 - lr: 1.0000e-07\n"
          ]
        }
      ]
    },
    {
      "cell_type": "code",
      "metadata": {
        "id": "io1oZA1xClmW"
      },
      "source": [
        "y_pred = model.predict(X_test)"
      ],
      "execution_count": null,
      "outputs": []
    },
    {
      "cell_type": "code",
      "metadata": {
        "colab": {
          "base_uri": "https://localhost:8080/"
        },
        "id": "ZcId0sLvCiYV",
        "outputId": "c6a724b9-c93d-4a05-b666-2f2b595d6025"
      },
      "source": [
        "\n",
        "y_pred_ugly = y_pred.argmax(axis=1)\n",
        "y_test_ugly = y_test.argmax(axis=1)\n",
        "\n",
        "print(classification_report(y_test_ugly, y_pred_ugly, target_names=['Amazon', 'Cerrado', 'Caatinga'], digits = 3))"
      ],
      "execution_count": null,
      "outputs": [
        {
          "output_type": "stream",
          "name": "stdout",
          "text": [
            "              precision    recall  f1-score   support\n",
            "\n",
            "      Amazon      0.918     0.895     0.907      2344\n",
            "     Cerrado      0.836     0.997     0.909      2367\n",
            "    Caatinga      0.937     0.791     0.858      2556\n",
            "\n",
            "    accuracy                          0.892      7267\n",
            "   macro avg      0.897     0.895     0.891      7267\n",
            "weighted avg      0.898     0.892     0.890      7267\n",
            "\n"
          ]
        }
      ]
    },
    {
      "cell_type": "code",
      "metadata": {
        "id": "HAAbnVLlCHuL"
      },
      "source": [
        "with open('/content/drive/MyDrive/ResNet18-2019-Training/history', 'wb') as f:\n",
        "        pickle.dump(history.history, f)\n",
        "      \n",
        "f.close()"
      ],
      "execution_count": null,
      "outputs": []
    },
    {
      "cell_type": "code",
      "metadata": {
        "id": "6njVDJwPCtKo"
      },
      "source": [
        "model.save_weights(os.path.join(\"/content/drive/MyDrive/ResNet18-2019-Training/\", 'Model_1.h5'), overwrite=True)"
      ],
      "execution_count": null,
      "outputs": []
    },
    {
      "cell_type": "code",
      "metadata": {
        "colab": {
          "base_uri": "https://localhost:8080/",
          "height": 383
        },
        "id": "B2YiZ91aB1Y3",
        "outputId": "0d67e4ea-e2d4-44f0-c871-1e68fdc9501f"
      },
      "source": [
        "def plotmodelhistory(history): \n",
        "    fig, axs = plt.subplots(1,2,figsize=(15,5)) \n",
        "    # summarize history for accuracy\n",
        "    axs[0].plot(history.history['accuracy']) \n",
        "    axs[0].plot(history.history['val_accuracy']) \n",
        "    axs[0].set_title('Model Accuracy')\n",
        "    axs[0].set_ylabel('Accuracy') \n",
        "    axs[0].set_xlabel('Epoch')\n",
        "    \n",
        "    axs[0].legend(['train', 'validate'], loc='upper left')\n",
        "    # summarize history for loss\n",
        "    axs[1].plot(history.history['loss']) \n",
        "    axs[1].plot(history.history['val_loss']) \n",
        "    axs[1].set_title('Model Loss')\n",
        "    axs[1].set_ylabel('Loss') \n",
        "    axs[1].set_xlabel('Epoch')\n",
        "    axs[1].legend(['train', 'validate'], loc='upper left')\n",
        "    plt.show()\n",
        "\n",
        "# list all data in history\n",
        "plotmodelhistory(history)"
      ],
      "execution_count": null,
      "outputs": [
        {
          "output_type": "display_data",
          "data": {
            "image/png": "[encoded data removed]",
            "text/plain": [
              "<Figure size 1080x360 with 2 Axes>"
            ]
          },
          "metadata": {}
        }
      ]
    },
    {
      "cell_type": "markdown",
      "metadata": {
        "id": "BsKZS8oKH9nr"
      },
      "source": [
        "## Load an old model"
      ]
    },
    {
      "cell_type": "code",
      "metadata": {
        "id": "eQjZ9LndCyh9"
      },
      "source": [
        "# Create a basic model instance\n",
        "model.load_weights(\"/content/drive/MyDrive/ResNet18-2019-Training/Model_1.h5\")"
      ],
      "execution_count": null,
      "outputs": []
    },
    {
      "cell_type": "code",
      "metadata": {
        "id": "F5WaBhM_IQoI"
      },
      "source": [
        ""
      ],
      "execution_count": null,
      "outputs": []
    }
  ]
}