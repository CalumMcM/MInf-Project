{
  "nbformat": 4,
  "nbformat_minor": 0,
  "metadata": {
    "colab": {
      "name": "DataPreparation.ipynb",
      "provenance": [],
      "collapsed_sections": []
    },
    "interpreter": {
      "hash": "4b0598c24d91ad1f26a906abbede8c7c81f9664655020d20bca99ac2430dd874"
    },
    "kernelspec": {
      "display_name": "Python 3.8.2 64-bit ('tile2vec': conda)",
      "name": "python3"
    },
    "language_info": {
      "codemirror_mode": {
        "name": "ipython",
        "version": 3
      },
      "file_extension": ".py",
      "mimetype": "text/x-python",
      "name": "python",
      "nbconvert_exporter": "python",
      "pygments_lexer": "ipython3",
      "version": "3.8.2"
    }
  },
  "cells": [
    {
      "cell_type": "markdown",
      "metadata": {
        "id": "TUy25plr003M"
      },
      "source": [
        "# Data Preparation"
      ]
    },
    {
      "cell_type": "code",
      "metadata": {
        "colab": {
          "base_uri": "https://localhost:8080/"
        },
        "id": "lo_-K11g055q",
        "outputId": "9fa5bd32-1f56-4578-be6c-7d20fdb110f4"
      },
      "source": [
        "from google.colab import drive\n",
        "drive.mount('/content/drive')"
      ],
      "execution_count": 15,
      "outputs": [
        {
          "output_type": "stream",
          "name": "stdout",
          "text": [
            "Drive already mounted at /content/drive; to attempt to forcibly remount, call drive.mount(\"/content/drive\", force_remount=True).\n"
          ]
        }
      ]
    },
    {
      "cell_type": "code",
      "metadata": {
        "colab": {
          "base_uri": "https://localhost:8080/"
        },
        "id": "MQsxn7r51EgM",
        "outputId": "157b52bf-fdf5-4ed5-e315-6fa4b6a9def7"
      },
      "source": [
        "pip install rasterio"
      ],
      "execution_count": 16,
      "outputs": [
        {
          "output_type": "stream",
          "name": "stdout",
          "text": [
            "Requirement already satisfied: rasterio in /usr/local/lib/python3.7/dist-packages (1.2.10)\n",
            "Requirement already satisfied: snuggs>=1.4.1 in /usr/local/lib/python3.7/dist-packages (from rasterio) (1.4.7)\n",
            "Requirement already satisfied: click>=4.0 in /usr/local/lib/python3.7/dist-packages (from rasterio) (7.1.2)\n",
            "Requirement already satisfied: cligj>=0.5 in /usr/local/lib/python3.7/dist-packages (from rasterio) (0.7.2)\n",
            "Requirement already satisfied: setuptools in /usr/local/lib/python3.7/dist-packages (from rasterio) (57.4.0)\n",
            "Requirement already satisfied: attrs in /usr/local/lib/python3.7/dist-packages (from rasterio) (21.2.0)\n",
            "Requirement already satisfied: affine in /usr/local/lib/python3.7/dist-packages (from rasterio) (2.3.0)\n",
            "Requirement already satisfied: certifi in /usr/local/lib/python3.7/dist-packages (from rasterio) (2021.10.8)\n",
            "Requirement already satisfied: click-plugins in /usr/local/lib/python3.7/dist-packages (from rasterio) (1.1.1)\n",
            "Requirement already satisfied: numpy in /usr/local/lib/python3.7/dist-packages (from rasterio) (1.19.5)\n",
            "Requirement already satisfied: pyparsing>=2.1.6 in /usr/local/lib/python3.7/dist-packages (from snuggs>=1.4.1->rasterio) (3.0.6)\n"
          ]
        }
      ]
    },
    {
      "cell_type": "code",
      "metadata": {
        "id": "01KqzuW_1JgK"
      },
      "source": [
        "import sys\n",
        "\n",
        "DIR = '/content/drive/MyDrive/'\n",
        "#sys.path.append('../')\n",
        "sys.path.append(DIR)"
      ],
      "execution_count": null,
      "outputs": []
    },
    {
      "cell_type": "code",
      "metadata": {
        "id": "Nl1jAWhL003P",
        "scrolled": true
      },
      "source": [
        "import numpy as np\n",
        "import time\n",
        "import pickle \n",
        "import os\n",
        "import matplotlib.pyplot as plt\n",
        "#import rasterio as rs\n",
        "#from src.sample_tiles import *\n",
        "%load_ext autoreload\n",
        "%autoreload 2\n",
        "%matplotlib inline\n",
        "\n",
        "import tensorflow as tf \n",
        "from sklearn.model_selection import train_test_split\n",
        "from tensorflow import keras\n",
        "from tensorflow.keras import layers"
      ],
      "execution_count": null,
      "outputs": []
    },
    {
      "cell_type": "markdown",
      "metadata": {
        "id": "GoM1XTO25zMJ"
      },
      "source": [
        "# Resolve TPU Address"
      ]
    },
    {
      "cell_type": "code",
      "metadata": {
        "colab": {
          "base_uri": "https://localhost:8080/",
          "height": 249
        },
        "id": "izhCKSBx5yqp",
        "outputId": "df8285fa-cba3-4018-da8c-80dbee8e6f15"
      },
      "source": [
        "use_tpu = True #@param {type:\"boolean\"}\n",
        "\n",
        "if use_tpu:\n",
        "    assert 'COLAB_TPU_ADDR' in os.environ, 'Missing TPU; did you request a TPU in Notebook Settings?'\n",
        "\n",
        "if 'COLAB_TPU_ADDR' in os.environ:\n",
        "  TF_MASTER = 'grpc://{}'.format(os.environ['COLAB_TPU_ADDR'])\n",
        "else:\n",
        "  TF_MASTER=''\n",
        "\n",
        "# TPU address\n",
        "tpu_address = TF_MASTER\n",
        "\n",
        "resolver = tf.distribute.cluster_resolver.TPUClusterResolver(TF_MASTER)\n",
        "tf.config.experimental_connect_to_cluster(resolver)\n",
        "tf.tpu.experimental.initialize_tpu_system(resolver)\n",
        "strategy = tf.distribute.experimental.TPUStrategy(resolver)"
      ],
      "execution_count": null,
      "outputs": [
        {
          "ename": "AssertionError",
          "evalue": "ignored",
          "output_type": "error",
          "traceback": [
            "\u001b[0;31m---------------------------------------------------------------------------\u001b[0m",
            "\u001b[0;31mAssertionError\u001b[0m                            Traceback (most recent call last)",
            "\u001b[0;32m<ipython-input-5-e7c6b36e6f26>\u001b[0m in \u001b[0;36m<module>\u001b[0;34m()\u001b[0m\n\u001b[1;32m      2\u001b[0m \u001b[0;34m\u001b[0m\u001b[0m\n\u001b[1;32m      3\u001b[0m \u001b[0;32mif\u001b[0m \u001b[0muse_tpu\u001b[0m\u001b[0;34m:\u001b[0m\u001b[0;34m\u001b[0m\u001b[0;34m\u001b[0m\u001b[0m\n\u001b[0;32m----> 4\u001b[0;31m     \u001b[0;32massert\u001b[0m \u001b[0;34m'COLAB_TPU_ADDR'\u001b[0m \u001b[0;32min\u001b[0m \u001b[0mos\u001b[0m\u001b[0;34m.\u001b[0m\u001b[0menviron\u001b[0m\u001b[0;34m,\u001b[0m \u001b[0;34m'Missing TPU; did you request a TPU in Notebook Settings?'\u001b[0m\u001b[0;34m\u001b[0m\u001b[0;34m\u001b[0m\u001b[0m\n\u001b[0m\u001b[1;32m      5\u001b[0m \u001b[0;34m\u001b[0m\u001b[0m\n\u001b[1;32m      6\u001b[0m \u001b[0;32mif\u001b[0m \u001b[0;34m'COLAB_TPU_ADDR'\u001b[0m \u001b[0;32min\u001b[0m \u001b[0mos\u001b[0m\u001b[0;34m.\u001b[0m\u001b[0menviron\u001b[0m\u001b[0;34m:\u001b[0m\u001b[0;34m\u001b[0m\u001b[0;34m\u001b[0m\u001b[0m\n",
            "\u001b[0;31mAssertionError\u001b[0m: Missing TPU; did you request a TPU in Notebook Settings?"
          ]
        }
      ]
    },
    {
      "cell_type": "markdown",
      "metadata": {
        "id": "pGiuGaMG003R"
      },
      "source": [
        "## Step 1. Sample image names"
      ]
    },
    {
      "cell_type": "markdown",
      "metadata": {
        "id": "eWqjV2zB003S"
      },
      "source": [
        "For each biome store the names of each image in an array"
      ]
    },
    {
      "cell_type": "markdown",
      "metadata": {
        "id": "_8PzOteS003S"
      },
      "source": [
        "### Organise structure for directory iteration"
      ]
    },
    {
      "cell_type": "code",
      "metadata": {
        "colab": {
          "background_save": true
        },
        "id": "bSOdXiM2003T"
      },
      "source": [
        "def normalize_red(array):\n",
        "    return (array - array.min()) / (array.max() - array.min())\n",
        "def normalize_green(array):\n",
        "    return (array - array.min()) / (array.max() - array.min())\n",
        "def normalize_blue(array):\n",
        "    return (array - array.min()) / (array.max() - array.min())"
      ],
      "execution_count": null,
      "outputs": []
    },
    {
      "cell_type": "code",
      "metadata": {
        "colab": {
          "background_save": true
        },
        "id": "-l-oEWFH003U"
      },
      "source": [
        "def biome_numerator(biome_DIR):\n",
        "    biome = biome_DIR.split('/')[-1]\n",
        "\n",
        "    if biome == \"TemporalAmazonia\":\n",
        "        return [1,0,0]\n",
        "    if biome == \"TemporalCerrado\":\n",
        "        return [0,1,0]\n",
        "    if biome == \"TemporalCaatinga\":\n",
        "        return [0,0,1]\n",
        "\n",
        "    # if biome == \"TemporalAmazonia\":\n",
        "    #     return np.zeros((4,51,51,1))\n",
        "    # if biome == \"TemporalCerrado\":\n",
        "    #     return np.ones((4,51,51,1))\n",
        "    # if biome == \"TemporalCaatinga\":\n",
        "    #     return np.full((4,51,51,1), 2)\n",
        "\n",
        "def get_data():\n",
        "    X_data = np.zeros((1,4,51,51,3))\n",
        "    y_data = np.zeros((1,3))\n",
        "    head_DIR = '/Volumes/GoogleDrive/My Drive/TemporalData-old'\n",
        "\n",
        "    subfolders = [f.path for f in os.scandir(head_DIR) if f.is_dir()]\n",
        "    idx = 0\n",
        "    for biome_DIR in subfolders:\n",
        "        print (\"CUR BIOME: {}\".format(biome_DIR.split('/')[-1]))\n",
        "        cur_biome_label = biome_numerator(biome_DIR)\n",
        "\n",
        "        biome_quads = [f.path for f in os.scandir(biome_DIR) if f.is_dir()]\n",
        "\n",
        "        for quad_DIR in biome_quads:\n",
        "            print (\"CUR QUAD: {}\".format(quad_DIR.split('/')[-1]))\n",
        "            quad_images = [f.path for f in os.scandir(quad_DIR) if f.is_dir()]\n",
        "\n",
        "            for image_DIR in quad_images:\n",
        "                years = [f.path for f in os.scandir(image_DIR) if f.is_file() and '.tif' in f.path]\n",
        "\n",
        "                # Create array to store each set of images\n",
        "                years_array = np.zeros((4, 51, 51, 3))\n",
        "                cur_year = 0\n",
        "                for year_DIR in years:\n",
        "                    # Open the iamge\n",
        "                    raster = rs.open(year_DIR)\n",
        "\n",
        "                    red = raster.read(4)\n",
        "                    green = raster.read(3)\n",
        "                    blue = raster.read(2)\n",
        "                    \n",
        "                    #red_norm = normalize_red(red)\n",
        "                    #green_norm = normalize_green(green)\n",
        "                    #blue_norm = normalize_blue(blue)\n",
        "                    \n",
        "                    # Stack bands\n",
        "                    img = []\n",
        "                    img = np.dstack((red, green, blue))\n",
        "                    \n",
        "                    # Ignore images that are mishapen\n",
        "                    x, y, z  = img.shape\n",
        "\n",
        "                    if (x > 48 and x < 54) and (y > 48 and y < 54):\n",
        "                        reset_img = reset_shape(img)\n",
        "\n",
        "                        clean_img = remove_nan(reset_img)\n",
        "\n",
        "                        if clean_img.shape == (51,51,3):\n",
        "                            years_array[cur_year,:] = clean_img\n",
        "\n",
        "                        cur_year += 1\n",
        "                \n",
        "                # Save each series of images as a numpy array\n",
        "                \n",
        "                # Create training and label matrices\n",
        "                #X_data = np.append(X_data, np.array([years_array]), axis = 0)\n",
        "                #y_data = np.append(y_data, np.array([cur_biome_label]), axis = 0)\n",
        "                \n",
        "                progress = img_processed/len(image_DIR)*100\n",
        "                print (\"Progress: {.2f}%\".format(progress))\n",
        "                # Method to stop early after idx number of images\n",
        "                # idx += 1\n",
        "                # if idx == 30:\n",
        "                #     # Remove first set of zeros \n",
        "                #     X_data = np.delete(X_data, (0), axis=0)\n",
        "                #     y_data = np.delete(y_data, (0), axis=0)\n",
        "                #     return X_data, y_data\n",
        "                \n",
        "            \n",
        "        "
      ],
      "execution_count": null,
      "outputs": []
    },
    {
      "cell_type": "code",
      "metadata": {
        "colab": {
          "background_save": true
        },
        "id": "HM1VFFW-003W"
      },
      "source": [
        "def load_Processed_Data():\n",
        "\n",
        "    X_data = np.zeros((1,4,51,51,3))\n",
        "    y_data = np.zeros((1,3))\n",
        "\n",
        "    DIR = '/Volumes/GoogleDrive/My Drive/TemporalData-Processed'\n",
        "\n",
        "    image_PATHS = [f.path for f in os.scandir(DIR) if 'npy' in f.path]\n",
        "    failed_images = []\n",
        "    idx = 1\n",
        "    previous_progress = 0\n",
        "    start = time.time()\n",
        "\n",
        "    for image_PATH in image_PATHS[:-1]:\n",
        "            try:\n",
        "                image = np.load(image_PATH)\n",
        "\n",
        "                X_data = np.append(X_data, np.array([image]), axis = 0)\n",
        "\n",
        "                if (idx%5 == 0):\n",
        "                    progress = (idx/len(image_PATHS[:-1]))*100\n",
        "                    end = time.time()\n",
        "                    time_remaining = ((end - start)/(progress-previous_progress)) * (100-progress)\n",
        "\n",
        "                    print (\"Progress: {:.2f}% Cur Image: {} TIME REMAINING: {:.2f} seconds \".format(progress, image_PATH.split('/')[-1], time_remaining))\n",
        "                    previous_progress= progress\n",
        "                    start = time.time()\n",
        "            except:\n",
        "                image_name = image_PATH.split('/')[-1].split('.')[0]\n",
        "\n",
        "                failed_images.append(image_name)\n",
        "\n",
        "                print (\"FAILED: {} \\t {}\".format(image_name, image_PATH))\n",
        "\n",
        "            idx += 1\n",
        "\n",
        "    print (image_PATHS[-1])\n",
        "    y_data = np.append(y_data, np.array(np.load(image_PATHS[-1])), axis = 0)\n",
        "\n",
        "    return X_data, y_data"
      ],
      "execution_count": null,
      "outputs": []
    },
    {
      "cell_type": "code",
      "metadata": {
        "colab": {
          "background_save": true
        },
        "id": "9px5Pj8o003Y"
      },
      "source": [
        "# X_data, y_data = load_Processed_Data()\n",
        "# y_data = y_data[0:4]\n",
        "# print (X_data.shape)\n",
        "# print (y_data.shape)"
      ],
      "execution_count": null,
      "outputs": []
    },
    {
      "cell_type": "code",
      "metadata": {
        "colab": {
          "background_save": true
        },
        "id": "sX5md8xb5bP1"
      },
      "source": [
        "# np.save(os.path.join('/Volumes/GoogleDrive/My Drive/TemporalData-Processed', 'Collated.npy'), X_data)"
      ],
      "execution_count": null,
      "outputs": []
    },
    {
      "cell_type": "code",
      "metadata": {
        "colab": {
          "base_uri": "https://localhost:8080/",
          "height": 317
        },
        "id": "9HkXSVew2MEM",
        "outputId": "ca15bb66-3d06-4eb8-af87-6526d685ff61"
      },
      "source": [
        "X_data = np.load('/content/drive/MyDrive/TemporalData-Processed-Train/Collated.npy')"
      ],
      "execution_count": null,
      "outputs": [
        {
          "ename": "FileNotFoundError",
          "evalue": "ignored",
          "output_type": "error",
          "traceback": [
            "\u001b[0;31m---------------------------------------------------------------------------\u001b[0m",
            "\u001b[0;31mFileNotFoundError\u001b[0m                         Traceback (most recent call last)",
            "\u001b[0;32m<ipython-input-6-01466ea5cc05>\u001b[0m in \u001b[0;36m<module>\u001b[0;34m()\u001b[0m\n\u001b[0;32m----> 1\u001b[0;31m \u001b[0mX_data\u001b[0m \u001b[0;34m=\u001b[0m \u001b[0mnp\u001b[0m\u001b[0;34m.\u001b[0m\u001b[0mload\u001b[0m\u001b[0;34m(\u001b[0m\u001b[0;34m'/content/drive/MyDrive/TemporalData-Processed-Train/Collated.npy'\u001b[0m\u001b[0;34m)\u001b[0m\u001b[0;34m\u001b[0m\u001b[0;34m\u001b[0m\u001b[0m\n\u001b[0m",
            "\u001b[0;32m/usr/local/lib/python3.7/dist-packages/numpy/lib/npyio.py\u001b[0m in \u001b[0;36mload\u001b[0;34m(file, mmap_mode, allow_pickle, fix_imports, encoding)\u001b[0m\n\u001b[1;32m    414\u001b[0m             \u001b[0mown_fid\u001b[0m \u001b[0;34m=\u001b[0m \u001b[0;32mFalse\u001b[0m\u001b[0;34m\u001b[0m\u001b[0;34m\u001b[0m\u001b[0m\n\u001b[1;32m    415\u001b[0m         \u001b[0;32melse\u001b[0m\u001b[0;34m:\u001b[0m\u001b[0;34m\u001b[0m\u001b[0;34m\u001b[0m\u001b[0m\n\u001b[0;32m--> 416\u001b[0;31m             \u001b[0mfid\u001b[0m \u001b[0;34m=\u001b[0m \u001b[0mstack\u001b[0m\u001b[0;34m.\u001b[0m\u001b[0menter_context\u001b[0m\u001b[0;34m(\u001b[0m\u001b[0mopen\u001b[0m\u001b[0;34m(\u001b[0m\u001b[0mos_fspath\u001b[0m\u001b[0;34m(\u001b[0m\u001b[0mfile\u001b[0m\u001b[0;34m)\u001b[0m\u001b[0;34m,\u001b[0m \u001b[0;34m\"rb\"\u001b[0m\u001b[0;34m)\u001b[0m\u001b[0;34m)\u001b[0m\u001b[0;34m\u001b[0m\u001b[0;34m\u001b[0m\u001b[0m\n\u001b[0m\u001b[1;32m    417\u001b[0m             \u001b[0mown_fid\u001b[0m \u001b[0;34m=\u001b[0m \u001b[0;32mTrue\u001b[0m\u001b[0;34m\u001b[0m\u001b[0;34m\u001b[0m\u001b[0m\n\u001b[1;32m    418\u001b[0m \u001b[0;34m\u001b[0m\u001b[0m\n",
            "\u001b[0;31mFileNotFoundError\u001b[0m: [Errno 2] No such file or directory: '/content/drive/MyDrive/TemporalData-Processed-Train/Collated.npy'"
          ]
        }
      ]
    },
    {
      "cell_type": "code",
      "metadata": {
        "colab": {
          "base_uri": "https://localhost:8080/",
          "height": 317
        },
        "id": "flkSgmad2W4i",
        "outputId": "b57e16a1-4935-48f6-bac3-c656ddf65ead"
      },
      "source": [
        "y_data = np.load('/content/drive/MyDrive/TemporalData-Processed-Train/labels.npy')[1:]"
      ],
      "execution_count": null,
      "outputs": [
        {
          "ename": "FileNotFoundError",
          "evalue": "ignored",
          "output_type": "error",
          "traceback": [
            "\u001b[0;31m---------------------------------------------------------------------------\u001b[0m",
            "\u001b[0;31mFileNotFoundError\u001b[0m                         Traceback (most recent call last)",
            "\u001b[0;32m<ipython-input-7-14b5b8f2c6ed>\u001b[0m in \u001b[0;36m<module>\u001b[0;34m()\u001b[0m\n\u001b[0;32m----> 1\u001b[0;31m \u001b[0my_data\u001b[0m \u001b[0;34m=\u001b[0m \u001b[0mnp\u001b[0m\u001b[0;34m.\u001b[0m\u001b[0mload\u001b[0m\u001b[0;34m(\u001b[0m\u001b[0;34m'/content/drive/MyDrive/TemporalData-Processed-Train/labels.npy'\u001b[0m\u001b[0;34m)\u001b[0m\u001b[0;34m[\u001b[0m\u001b[0;36m1\u001b[0m\u001b[0;34m:\u001b[0m\u001b[0;34m]\u001b[0m\u001b[0;34m\u001b[0m\u001b[0;34m\u001b[0m\u001b[0m\n\u001b[0m",
            "\u001b[0;32m/usr/local/lib/python3.7/dist-packages/numpy/lib/npyio.py\u001b[0m in \u001b[0;36mload\u001b[0;34m(file, mmap_mode, allow_pickle, fix_imports, encoding)\u001b[0m\n\u001b[1;32m    414\u001b[0m             \u001b[0mown_fid\u001b[0m \u001b[0;34m=\u001b[0m \u001b[0;32mFalse\u001b[0m\u001b[0;34m\u001b[0m\u001b[0;34m\u001b[0m\u001b[0m\n\u001b[1;32m    415\u001b[0m         \u001b[0;32melse\u001b[0m\u001b[0;34m:\u001b[0m\u001b[0;34m\u001b[0m\u001b[0;34m\u001b[0m\u001b[0m\n\u001b[0;32m--> 416\u001b[0;31m             \u001b[0mfid\u001b[0m \u001b[0;34m=\u001b[0m \u001b[0mstack\u001b[0m\u001b[0;34m.\u001b[0m\u001b[0menter_context\u001b[0m\u001b[0;34m(\u001b[0m\u001b[0mopen\u001b[0m\u001b[0;34m(\u001b[0m\u001b[0mos_fspath\u001b[0m\u001b[0;34m(\u001b[0m\u001b[0mfile\u001b[0m\u001b[0;34m)\u001b[0m\u001b[0;34m,\u001b[0m \u001b[0;34m\"rb\"\u001b[0m\u001b[0;34m)\u001b[0m\u001b[0;34m)\u001b[0m\u001b[0;34m\u001b[0m\u001b[0;34m\u001b[0m\u001b[0m\n\u001b[0m\u001b[1;32m    417\u001b[0m             \u001b[0mown_fid\u001b[0m \u001b[0;34m=\u001b[0m \u001b[0;32mTrue\u001b[0m\u001b[0;34m\u001b[0m\u001b[0;34m\u001b[0m\u001b[0m\n\u001b[1;32m    418\u001b[0m \u001b[0;34m\u001b[0m\u001b[0m\n",
            "\u001b[0;31mFileNotFoundError\u001b[0m: [Errno 2] No such file or directory: '/content/drive/MyDrive/TemporalData-Processed-Train/labels.npy'"
          ]
        }
      ]
    },
    {
      "cell_type": "code",
      "metadata": {
        "id": "51yaz3_0003b"
      },
      "source": [
        "X_train, X_test, y_train, y_test = train_test_split(X_data, y_data[0:10986], test_size=0.20, random_state=42)\n",
        "X_train, X_val, y_train, y_val = train_test_split(X_train, y_train, test_size=0.20, random_state=42)"
      ],
      "execution_count": null,
      "outputs": []
    },
    {
      "cell_type": "code",
      "metadata": {
        "id": "N9W3ZCuU003b"
      },
      "source": [
        "print (\"Training: {}, {}\".format(X_train.shape, y_train.shape))\n",
        "print (\"Validation: {}, {}\".format(X_val.shape, y_val.shape))\n",
        "print (\"Testing: {}, {}\".format(X_test.shape, y_test.shape))"
      ],
      "execution_count": null,
      "outputs": []
    },
    {
      "cell_type": "code",
      "metadata": {
        "colab": {
          "base_uri": "https://localhost:8080/",
          "height": 587
        },
        "id": "O18Qyezm003c",
        "outputId": "b0c511c3-210d-4dcb-aa0a-95017bb10734"
      },
      "source": [
        "# Construct a figure on which we will visualize the images.\n",
        "fig, axes = plt.subplots(2, 2, figsize=(10, 8))\n",
        "\n",
        "# Plot each of the sequential images for one random data example.\n",
        "data_choice = np.random.choice(range(len(X_data)), size=1)[0]\n",
        "for idx, ax in enumerate(axes.flat):\n",
        "    new_img = X_data[data_choice][idx]\n",
        "    ax.imshow(np.squeeze(new_img))\n",
        "    ax.set_title(f\"Frame {idx + 1}\")\n",
        "    ax.axis(\"off\")\n",
        "\n",
        "# Print information and display the figure.\n",
        "print(f\"Displaying frames for example {data_choice}.\")\n",
        "plt.show()"
      ],
      "execution_count": null,
      "outputs": [
        {
          "name": "stderr",
          "output_type": "stream",
          "text": [
            "Clipping input data to the valid range for imshow with RGB data ([0..1] for floats or [0..255] for integers).\n",
            "Clipping input data to the valid range for imshow with RGB data ([0..1] for floats or [0..255] for integers).\n",
            "Clipping input data to the valid range for imshow with RGB data ([0..1] for floats or [0..255] for integers).\n",
            "Clipping input data to the valid range for imshow with RGB data ([0..1] for floats or [0..255] for integers).\n"
          ]
        },
        {
          "name": "stdout",
          "output_type": "stream",
          "text": [
            "Displaying frames for example 7425.\n"
          ]
        },
        {
          "data": {
            "image/png": "[encoded data removed]",
            "text/plain": [
              "<Figure size 720x576 with 4 Axes>"
            ]
          },
          "metadata": {},
          "output_type": "display_data"
        }
      ]
    },
    {
      "cell_type": "code",
      "metadata": {
        "id": "mClYRTdr003d"
      },
      "source": [
        "from keras.models import Sequential, Model \n",
        "\n",
        "def get_model():\n",
        "  model = Sequential()\n",
        "  model.add(\n",
        "      layers.ConvLSTM2D(\n",
        "          filters = 64, \n",
        "          kernel_size = (3, 3), \n",
        "          return_sequences = False, \n",
        "          data_format = \"channels_last\", \n",
        "          input_shape = (4, 51, 51, 3)\n",
        "      )\n",
        "  )\n",
        "  model.add(\n",
        "      layers.Dropout(0.2)\n",
        "  )\n",
        "  model.add(\n",
        "      layers.Flatten()\n",
        "  )\n",
        "  model.add(\n",
        "      layers.Dense(256, activation=\"relu\")\n",
        "  )\n",
        "  model.add(\n",
        "      layers.Dropout(0.3)\n",
        "  )\n",
        "  model.add(\n",
        "      layers.Dense(3, activation = \"softmax\")\n",
        "  )\n",
        "  \n",
        "  return model  \n"
      ],
      "execution_count": null,
      "outputs": []
    },
    {
      "cell_type": "code",
      "metadata": {
        "colab": {
          "base_uri": "https://localhost:8080/"
        },
        "id": "Fss-REXc6c94",
        "outputId": "9be8ed76-a282-4e5a-b052-da2b83a1eef3"
      },
      "source": [
        "with strategy.scope():\n",
        "\n",
        "  model = get_model()\n",
        "  \n",
        "  opt = keras.optimizers.Adam()\n",
        "\n",
        "  early_stopping = keras.callbacks.EarlyStopping(monitor=\"val_loss\", patience=10)\n",
        "  reduce_lr = keras.callbacks.ReduceLROnPlateau(monitor=\"val_loss\", patience=5)\n",
        "\n",
        "  model.compile(loss='categorical_crossentropy', optimizer=opt, metrics=[\"accuracy\"])\n",
        "\n",
        "model.summary()\n",
        "\n",
        "batch_size = 100\n",
        "epochs = 50"
      ],
      "execution_count": null,
      "outputs": [
        {
          "name": "stdout",
          "output_type": "stream",
          "text": [
            "Model: \"sequential_4\"\n",
            "_________________________________________________________________\n",
            " Layer (type)                Output Shape              Param #   \n",
            "=================================================================\n",
            " conv_lstm2d_4 (ConvLSTM2D)  (None, 49, 49, 64)        154624    \n",
            "                                                                 \n",
            " dropout_8 (Dropout)         (None, 49, 49, 64)        0         \n",
            "                                                                 \n",
            " flatten_4 (Flatten)         (None, 153664)            0         \n",
            "                                                                 \n",
            " dense_8 (Dense)             (None, 256)               39338240  \n",
            "                                                                 \n",
            " dropout_9 (Dropout)         (None, 256)               0         \n",
            "                                                                 \n",
            " dense_9 (Dense)             (None, 3)                 771       \n",
            "                                                                 \n",
            "=================================================================\n",
            "Total params: 39,493,635\n",
            "Trainable params: 39,493,635\n",
            "Non-trainable params: 0\n",
            "_________________________________________________________________\n"
          ]
        }
      ]
    },
    {
      "cell_type": "code",
      "metadata": {
        "colab": {
          "base_uri": "https://localhost:8080/"
        },
        "id": "SYnBYOUb4_BJ",
        "outputId": "8fb5e1aa-2e6b-4f26-d4d9-1cccff39a81e"
      },
      "source": [
        "callbacks = [early_stopping, reduce_lr]\n",
        "\n",
        "history = model.fit(\n",
        "    X_train,\n",
        "    y_train,\n",
        "    batch_size=batch_size,\n",
        "    epochs=epochs,\n",
        "    validation_data=(X_val, y_val),\n",
        "    callbacks=[early_stopping, reduce_lr],\n",
        ") "
      ],
      "execution_count": null,
      "outputs": [
        {
          "name": "stdout",
          "output_type": "stream",
          "text": [
            "Epoch 1/50\n",
            "71/71 [==============================] - 40s 400ms/step - loss: 2.7465 - accuracy: 0.6531 - val_loss: 0.5858 - val_accuracy: 0.6951 - lr: 0.0010\n",
            "Epoch 2/50\n",
            "71/71 [==============================] - 11s 153ms/step - loss: 0.6750 - accuracy: 0.6842 - val_loss: 0.6165 - val_accuracy: 0.7224 - lr: 0.0010\n",
            "Epoch 3/50\n",
            "71/71 [==============================] - 11s 155ms/step - loss: 0.6521 - accuracy: 0.6825 - val_loss: 0.5671 - val_accuracy: 0.7474 - lr: 0.0010\n",
            "Epoch 4/50\n",
            "71/71 [==============================] - 11s 154ms/step - loss: 0.5755 - accuracy: 0.7519 - val_loss: 0.4668 - val_accuracy: 0.8106 - lr: 0.0010\n",
            "Epoch 5/50\n",
            "71/71 [==============================] - 11s 153ms/step - loss: 0.5213 - accuracy: 0.7829 - val_loss: 0.4333 - val_accuracy: 0.8237 - lr: 0.0010\n",
            "Epoch 6/50\n",
            "71/71 [==============================] - 11s 153ms/step - loss: 0.5104 - accuracy: 0.7811 - val_loss: 0.3900 - val_accuracy: 0.8390 - lr: 0.0010\n",
            "Epoch 7/50\n",
            "71/71 [==============================] - 11s 153ms/step - loss: 0.4901 - accuracy: 0.7885 - val_loss: 0.3880 - val_accuracy: 0.8464 - lr: 0.0010\n",
            "Epoch 8/50\n",
            "71/71 [==============================] - 11s 152ms/step - loss: 0.4735 - accuracy: 0.7986 - val_loss: 0.4695 - val_accuracy: 0.8083 - lr: 0.0010\n",
            "Epoch 9/50\n",
            "71/71 [==============================] - 11s 157ms/step - loss: 0.4790 - accuracy: 0.7986 - val_loss: 0.5242 - val_accuracy: 0.8146 - lr: 0.0010\n",
            "Epoch 10/50\n",
            "71/71 [==============================] - 11s 152ms/step - loss: 0.4548 - accuracy: 0.8156 - val_loss: 0.4109 - val_accuracy: 0.8311 - lr: 0.0010\n",
            "Epoch 11/50\n",
            "71/71 [==============================] - 11s 153ms/step - loss: 0.4399 - accuracy: 0.8188 - val_loss: 0.3615 - val_accuracy: 0.8549 - lr: 0.0010\n",
            "Epoch 12/50\n",
            "71/71 [==============================] - 11s 153ms/step - loss: 0.4114 - accuracy: 0.8319 - val_loss: 0.3564 - val_accuracy: 0.8498 - lr: 0.0010\n",
            "Epoch 13/50\n",
            "71/71 [==============================] - 11s 153ms/step - loss: 0.3855 - accuracy: 0.8434 - val_loss: 0.3553 - val_accuracy: 0.8623 - lr: 0.0010\n",
            "Epoch 14/50\n",
            "71/71 [==============================] - 11s 153ms/step - loss: 0.3815 - accuracy: 0.8452 - val_loss: 0.4159 - val_accuracy: 0.8549 - lr: 0.0010\n",
            "Epoch 15/50\n",
            "71/71 [==============================] - 11s 153ms/step - loss: 0.4446 - accuracy: 0.8186 - val_loss: 0.3906 - val_accuracy: 0.8379 - lr: 0.0010\n",
            "Epoch 16/50\n",
            "71/71 [==============================] - 11s 153ms/step - loss: 0.3943 - accuracy: 0.8373 - val_loss: 0.3649 - val_accuracy: 0.8481 - lr: 0.0010\n",
            "Epoch 17/50\n",
            "71/71 [==============================] - 11s 153ms/step - loss: 0.3939 - accuracy: 0.8356 - val_loss: 0.3602 - val_accuracy: 0.8612 - lr: 0.0010\n",
            "Epoch 18/50\n",
            "71/71 [==============================] - 11s 153ms/step - loss: 0.3917 - accuracy: 0.8421 - val_loss: 0.3755 - val_accuracy: 0.8521 - lr: 0.0010\n",
            "Epoch 19/50\n",
            "71/71 [==============================] - 11s 153ms/step - loss: 0.3499 - accuracy: 0.8582 - val_loss: 0.3175 - val_accuracy: 0.8749 - lr: 1.0000e-04\n",
            "Epoch 20/50\n",
            "71/71 [==============================] - 11s 154ms/step - loss: 0.3323 - accuracy: 0.8646 - val_loss: 0.3172 - val_accuracy: 0.8703 - lr: 1.0000e-04\n",
            "Epoch 21/50\n",
            "71/71 [==============================] - 11s 154ms/step - loss: 0.3220 - accuracy: 0.8656 - val_loss: 0.3166 - val_accuracy: 0.8714 - lr: 1.0000e-04\n",
            "Epoch 22/50\n",
            "71/71 [==============================] - 11s 154ms/step - loss: 0.3155 - accuracy: 0.8714 - val_loss: 0.3136 - val_accuracy: 0.8749 - lr: 1.0000e-04\n",
            "Epoch 23/50\n",
            "71/71 [==============================] - 11s 154ms/step - loss: 0.3115 - accuracy: 0.8737 - val_loss: 0.3141 - val_accuracy: 0.8754 - lr: 1.0000e-04\n",
            "Epoch 24/50\n",
            "71/71 [==============================] - 11s 153ms/step - loss: 0.3025 - accuracy: 0.8788 - val_loss: 0.3111 - val_accuracy: 0.8754 - lr: 1.0000e-04\n",
            "Epoch 25/50\n",
            "71/71 [==============================] - 11s 154ms/step - loss: 0.2984 - accuracy: 0.8801 - val_loss: 0.3188 - val_accuracy: 0.8788 - lr: 1.0000e-04\n",
            "Epoch 26/50\n",
            "71/71 [==============================] - 11s 153ms/step - loss: 0.2993 - accuracy: 0.8808 - val_loss: 0.3200 - val_accuracy: 0.8771 - lr: 1.0000e-04\n",
            "Epoch 27/50\n",
            "71/71 [==============================] - 11s 153ms/step - loss: 0.2969 - accuracy: 0.8829 - val_loss: 0.3133 - val_accuracy: 0.8771 - lr: 1.0000e-04\n",
            "Epoch 28/50\n",
            "71/71 [==============================] - 11s 153ms/step - loss: 0.2897 - accuracy: 0.8861 - val_loss: 0.3163 - val_accuracy: 0.8777 - lr: 1.0000e-04\n",
            "Epoch 29/50\n",
            "71/71 [==============================] - 11s 153ms/step - loss: 0.2853 - accuracy: 0.8862 - val_loss: 0.3091 - val_accuracy: 0.8737 - lr: 1.0000e-04\n",
            "Epoch 30/50\n",
            "71/71 [==============================] - 11s 154ms/step - loss: 0.2860 - accuracy: 0.8863 - val_loss: 0.3153 - val_accuracy: 0.8726 - lr: 1.0000e-04\n",
            "Epoch 31/50\n",
            "71/71 [==============================] - 11s 155ms/step - loss: 0.2844 - accuracy: 0.8872 - val_loss: 0.3225 - val_accuracy: 0.8709 - lr: 1.0000e-04\n",
            "Epoch 32/50\n",
            "71/71 [==============================] - 11s 161ms/step - loss: 0.2795 - accuracy: 0.8922 - val_loss: 0.3119 - val_accuracy: 0.8720 - lr: 1.0000e-04\n",
            "Epoch 33/50\n",
            "71/71 [==============================] - 11s 153ms/step - loss: 0.2756 - accuracy: 0.8954 - val_loss: 0.3166 - val_accuracy: 0.8760 - lr: 1.0000e-04\n",
            "Epoch 34/50\n",
            "71/71 [==============================] - 11s 154ms/step - loss: 0.2618 - accuracy: 0.8963 - val_loss: 0.3134 - val_accuracy: 0.8760 - lr: 1.0000e-04\n",
            "Epoch 35/50\n",
            "71/71 [==============================] - 11s 153ms/step - loss: 0.2536 - accuracy: 0.9033 - val_loss: 0.3139 - val_accuracy: 0.8800 - lr: 1.0000e-05\n",
            "Epoch 36/50\n",
            "71/71 [==============================] - 11s 154ms/step - loss: 0.2511 - accuracy: 0.8987 - val_loss: 0.3149 - val_accuracy: 0.8760 - lr: 1.0000e-05\n",
            "Epoch 37/50\n",
            "71/71 [==============================] - 11s 154ms/step - loss: 0.2530 - accuracy: 0.9000 - val_loss: 0.3135 - val_accuracy: 0.8783 - lr: 1.0000e-05\n",
            "Epoch 38/50\n",
            "71/71 [==============================] - 11s 154ms/step - loss: 0.2510 - accuracy: 0.9020 - val_loss: 0.3134 - val_accuracy: 0.8766 - lr: 1.0000e-05\n",
            "Epoch 39/50\n",
            "71/71 [==============================] - 11s 154ms/step - loss: 0.2571 - accuracy: 0.8993 - val_loss: 0.3143 - val_accuracy: 0.8743 - lr: 1.0000e-05\n"
          ]
        }
      ]
    },
    {
      "cell_type": "code",
      "metadata": {
        "id": "UPzLTrwPCqF_"
      },
      "source": [
        "y_pred = model.predict(X_test)"
      ],
      "execution_count": null,
      "outputs": []
    },
    {
      "cell_type": "code",
      "metadata": {
        "colab": {
          "base_uri": "https://localhost:8080/"
        },
        "id": "7S15ynR5003e",
        "outputId": "35df3495-fa85-4ddb-c339-25ef20771748"
      },
      "source": [
        "from sklearn.metrics import classification_report\n",
        "\n",
        "y_pred_ugly = y_pred.argmax(axis=1)\n",
        "y_test_ugly = y_test.argmax(axis=1)\n",
        "\n",
        "print(classification_report(y_test_ugly, y_pred_ugly))"
      ],
      "execution_count": null,
      "outputs": [
        {
          "name": "stdout",
          "output_type": "stream",
          "text": [
            "              precision    recall  f1-score   support\n",
            "\n",
            "           0       0.96      0.94      0.95       719\n",
            "           1       0.87      0.83      0.85       746\n",
            "           2       0.82      0.87      0.85       733\n",
            "\n",
            "    accuracy                           0.88      2198\n",
            "   macro avg       0.88      0.88      0.88      2198\n",
            "weighted avg       0.88      0.88      0.88      2198\n",
            "\n"
          ]
        }
      ]
    },
    {
      "cell_type": "code",
      "metadata": {
        "id": "xyBzzNFPDite"
      },
      "source": [
        "with open('/content/drive/MyDrive/ConvLSTM/ConvLSTM_History', 'wb') as f:\n",
        "        pickle.dump(history.history, f)\n",
        "      \n",
        "f.close()"
      ],
      "execution_count": null,
      "outputs": []
    },
    {
      "cell_type": "code",
      "metadata": {
        "id": "RHnlMnqH003e"
      },
      "source": [
        "model.save_weights(os.path.join(\"/content/drive/MyDrive/ConvLSTM/\", 'ConvLSTM.h5'), overwrite=True)"
      ],
      "execution_count": null,
      "outputs": []
    },
    {
      "cell_type": "markdown",
      "metadata": {
        "id": "jAYeQ7brC3Gn"
      },
      "source": [
        "### Example of how to load the trained model"
      ]
    },
    {
      "cell_type": "code",
      "metadata": {
        "id": "wd8UjlmBCbQC"
      },
      "source": [
        "# Create a basic model instance\n",
        "model = get_model()\n",
        "model.load_weights(\"/content/drive/MyDrive/TemporalData-Processed/ConvLSTM.h5\")"
      ],
      "execution_count": null,
      "outputs": []
    },
    {
      "cell_type": "markdown",
      "metadata": {
        "id": "wdqV0BCCPjo8"
      },
      "source": [
        "View Training History"
      ]
    },
    {
      "cell_type": "code",
      "metadata": {
        "id": "Fgz4K4lVKuTf"
      },
      "source": [
        "history = pickle.load(open('/content/drive/MyDrive/ConvLSTM/ConvLSTM_History', \"rb\"))"
      ],
      "execution_count": null,
      "outputs": []
    },
    {
      "cell_type": "code",
      "metadata": {
        "id": "pB5u1KQUQMqP"
      },
      "source": [
        "history_keys = list(history.keys())\n",
        "\n",
        "loss = history_keys[0]\n",
        "acc = history_keys[1]\n",
        "val_loss = history_keys[2]\n",
        "val_acc = history_keys[3] "
      ],
      "execution_count": null,
      "outputs": []
    },
    {
      "cell_type": "code",
      "metadata": {
        "colab": {
          "base_uri": "https://localhost:8080/",
          "height": 561
        },
        "id": "lSrerOhUQfPx",
        "outputId": "ed202c24-81bf-4982-93b4-4d95c8503ec3"
      },
      "source": [
        "plt.style.use('fivethirtyeight')\n",
        "plt.plot(history[acc], linewidth=3)\n",
        "plt.plot(history[val_acc], linewidth=2)\n",
        "plt.ylim([0.2, 1])\n",
        "plt.title('Accuracy')\n",
        "plt.ylabel('Accuracy')\n",
        "plt.xlabel('Epoch')\n",
        "plt.legend(['Train', 'Val'], loc='lower right')\n",
        "plt.tight_layout()\n",
        "plt.savefig('/content/drive/MyDrive/ConvLSTM/AccFigure')\n",
        "plt.show()\n",
        "\n",
        "\n",
        "# summarize history for loss\n",
        "plt.style.use('fivethirtyeight')\n",
        "plt.plot(history[loss], linestyle='--', linewidth=2)\n",
        "plt.plot(history[val_loss], linewidth=2)\n",
        "plt.title('Loss')\n",
        "plt.ylabel('Loss')\n",
        "plt.xlabel('Epoch')\n",
        "plt.legend(['Train', 'Val'], loc='upper right')\n",
        "plt.tight_layout()\n",
        "plt.savefig('/content/drive/MyDrive/ConvLSTM/LossFigure')\n",
        "plt.show()"
      ],
      "execution_count": null,
      "outputs": [
        {
          "data": {
            "image/png": "[encoded data removed]",
            "text/plain": [
              "<Figure size 432x288 with 1 Axes>"
            ]
          },
          "metadata": {},
          "output_type": "display_data"
        },
        {
          "data": {
            "image/png": "[encoded data removed]",
            "text/plain": [
              "<Figure size 432x288 with 1 Axes>"
            ]
          },
          "metadata": {},
          "output_type": "display_data"
        }
      ]
    },
    {
      "cell_type": "code",
      "metadata": {
        "id": "lkMFyMzRRAqW"
      },
      "source": [
        ""
      ],
      "execution_count": null,
      "outputs": []
    }
  ]
}