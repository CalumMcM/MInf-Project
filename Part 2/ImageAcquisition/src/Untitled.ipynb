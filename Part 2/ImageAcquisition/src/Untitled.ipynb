{
 "cells": [
  {
   "cell_type": "code",
   "execution_count": 1,
   "metadata": {},
   "outputs": [],
   "source": [
    "import pandas as pd\n",
    "import pickle"
   ]
  },
  {
   "cell_type": "code",
   "execution_count": 47,
   "metadata": {},
   "outputs": [],
   "source": [
    "df = pd.read_pickle('image_estimation.pkl')"
   ]
  },
  {
   "cell_type": "code",
   "execution_count": 48,
   "metadata": {},
   "outputs": [],
   "source": [
    "df['Totals'] = df.sum(axis=1)"
   ]
  },
  {
   "cell_type": "code",
   "execution_count": 49,
   "metadata": {},
   "outputs": [
    {
     "data": {
      "text/plain": [
       "AmaQuad1_1    115.00\n",
       "AmaQuad1_2     26.91\n",
       "AmaQuad1_3    366.12\n",
       "AmaQuad2_1    342.47\n",
       "AmaQuad2_2     99.36\n",
       "AmaQuad2_3     28.98\n",
       "AmaQuad3_1    511.14\n",
       "AmaQuad3_2     90.16\n",
       "AmaQuad4_1    323.37\n",
       "AmaQuad4_2    100.48\n",
       "AmaQuad4_3     37.26\n",
       "AmaQuad4_4     20.24\n",
       "CatQuad1_1    131.10\n",
       "CatQuad2_1     96.60\n",
       "CatQuad2_2     13.80\n",
       "CatQuad3_1     50.60\n",
       "CatQuad3_2     32.20\n",
       "CatQuad3_3     12.88\n",
       "CatQuad3_4      6.21\n",
       "CatQuad4_1    116.61\n",
       "CatQuad4_2     14.49\n",
       "CerQuad1_1    248.63\n",
       "CerQuad1_2     43.01\n",
       "CerQuad1_3     16.56\n",
       "CerQuad2_1    191.59\n",
       "CerQuad2_2     82.80\n",
       "CerQuad2_3     20.93\n",
       "CerQuad2_4     13.80\n",
       "CerQuad3_1     86.48\n",
       "CerQuad3_2     82.80\n",
       "CerQuad3_3     66.24\n",
       "CerQuad3_4     53.82\n",
       "CerQuad3_5     26.22\n",
       "CerQuad4_1    241.50\n",
       "CerQuad4_2     16.56\n",
       "CerQuad4_3     55.20\n",
       "Name: Totals, dtype: float64"
      ]
     },
     "execution_count": 49,
     "metadata": {},
     "output_type": "execute_result"
    }
   ],
   "source": [
    "df['Totals']*0.01"
   ]
  },
  {
   "cell_type": "code",
   "execution_count": 71,
   "metadata": {},
   "outputs": [
    {
     "data": {
      "text/plain": [
       "AmaQuad1_1     5.00\n",
       "AmaQuad1_2     1.17\n",
       "AmaQuad1_3    15.93\n",
       "AmaQuad2_1    14.96\n",
       "AmaQuad2_2     4.32\n",
       "AmaQuad2_3     1.26\n",
       "AmaQuad3_1    22.23\n",
       "AmaQuad3_2     3.92\n",
       "AmaQuad4_1    14.06\n",
       "AmaQuad4_2     4.37\n",
       "AmaQuad4_3     1.62\n",
       "AmaQuad4_4     0.88\n",
       "CatQuad1_1     5.70\n",
       "CatQuad2_1     4.20\n",
       "CatQuad2_2     0.60\n",
       "CatQuad3_1     2.20\n",
       "CatQuad3_2     1.40\n",
       "CatQuad3_3     0.56\n",
       "CatQuad3_4     0.27\n",
       "CatQuad4_1     5.07\n",
       "CatQuad4_2     0.63\n",
       "CerQuad1_1    10.81\n",
       "CerQuad1_2     1.87\n",
       "CerQuad1_3     0.72\n",
       "CerQuad2_1     8.33\n",
       "CerQuad2_2     3.60\n",
       "CerQuad2_3     0.91\n",
       "CerQuad2_4     0.60\n",
       "CerQuad3_1     3.76\n",
       "CerQuad3_2     3.60\n",
       "CerQuad3_3     2.88\n",
       "CerQuad3_4     2.34\n",
       "CerQuad3_5     1.14\n",
       "CerQuad4_1    10.50\n",
       "CerQuad4_2     0.72\n",
       "CerQuad4_3     2.40\n",
       "Name: 2017-06-01T00:00:00.000Z, dtype: float64"
      ]
     },
     "execution_count": 71,
     "metadata": {},
     "output_type": "execute_result"
    }
   ],
   "source": [
    "df['2017-06-01T00:00:00.000Z']* 0.01"
   ]
  },
  {
   "cell_type": "code",
   "execution_count": 56,
   "metadata": {},
   "outputs": [],
   "source": [
    "Total_Images = df['Totals']*0.01"
   ]
  },
  {
   "cell_type": "code",
   "execution_count": 57,
   "metadata": {},
   "outputs": [
    {
     "data": {
      "text/plain": [
       "3782.12"
      ]
     },
     "execution_count": 57,
     "metadata": {},
     "output_type": "execute_result"
    }
   ],
   "source": [
    "Total_Images.sum(axis=0)"
   ]
  },
  {
   "cell_type": "code",
   "execution_count": 36,
   "metadata": {},
   "outputs": [],
   "source": [
    "Ama = Total_Images[0:12]\n",
    "Cat = Total_Images[12:21]\n",
    "Cer = Total_Images[21:]"
   ]
  },
  {
   "cell_type": "code",
   "execution_count": 38,
   "metadata": {},
   "outputs": [
    {
     "name": "stdout",
     "output_type": "stream",
     "text": [
      "Ama Total: 20614.9\n",
      "Cat Total: 12461.400000000001\n",
      "Cer Total: 4744.9\n"
     ]
    }
   ],
   "source": [
    "print (\"Ama Total: {}\".format(Ama.sum(axis=0)))\n",
    "print (\"Cat Total: {}\".format(Cer.sum(axis=0)))\n",
    "print (\"Cer Total: {}\".format(Cat.sum(axis=0)))"
   ]
  },
  {
   "cell_type": "markdown",
   "metadata": {},
   "source": [
    "- Take each of the corners from an image and you get 1 Quad becoming 4 training images\n",
    "\n",
    "- 10,000 quads = 40,000 images \n",
    "    - 2,000 quads = 130Mb*10,000 = 1.3Tb"
   ]
  },
  {
   "cell_type": "code",
   "execution_count": 44,
   "metadata": {},
   "outputs": [
    {
     "name": "stdout",
     "output_type": "stream",
     "text": [
      "Download bandwidth: 52.0GB\n"
     ]
    }
   ],
   "source": [
    "Img_from_quad = 100\n",
    "\n",
    "dw = 40000/Img_from_quad * 130\n",
    "print (\"Download bandwidth: {}GB\".format(dw/1000))"
   ]
  },
  {
   "cell_type": "code",
   "execution_count": null,
   "metadata": {},
   "outputs": [],
   "source": []
  }
 ],
 "metadata": {
  "kernelspec": {
   "display_name": "Python 3",
   "language": "python",
   "name": "python3"
  },
  "language_info": {
   "codemirror_mode": {
    "name": "ipython",
    "version": 3
   },
   "file_extension": ".py",
   "mimetype": "text/x-python",
   "name": "python",
   "nbconvert_exporter": "python",
   "pygments_lexer": "ipython3",
   "version": "3.8.2"
  }
 },
 "nbformat": 4,
 "nbformat_minor": 4
}
